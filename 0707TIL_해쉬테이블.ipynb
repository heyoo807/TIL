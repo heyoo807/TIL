{
  "nbformat": 4,
  "nbformat_minor": 0,
  "metadata": {
    "colab": {
      "name": "0707TIL_해쉬테이블.ipynb",
      "provenance": [],
      "collapsed_sections": [],
      "authorship_tag": "ABX9TyOJqVPDPGH0ANhPfoSITl8Y",
      "include_colab_link": true
    },
    "kernelspec": {
      "name": "python3",
      "display_name": "Python 3"
    },
    "language_info": {
      "name": "python"
    }
  },
  "cells": [
    {
      "cell_type": "markdown",
      "metadata": {
        "id": "view-in-github",
        "colab_type": "text"
      },
      "source": [
        "<a href=\"https://colab.research.google.com/github/heyoo807/TIL/blob/master/0707TIL_%ED%95%B4%EC%89%AC%ED%85%8C%EC%9D%B4%EB%B8%94.ipynb\" target=\"_parent\"><img src=\"https://colab.research.google.com/assets/colab-badge.svg\" alt=\"Open In Colab\"/></a>"
      ]
    },
    {
      "cell_type": "markdown",
      "source": [
        "## **1. 해쉬 테이블(Hash Table)**\n",
        "* 키(key)에 데이터(value)를 저장하는 데이터 구조\n",
        "* 파이썬에서는 해쉬를 별도로 구현할 필요가 없음\n",
        "* 파이썬 딕셔너리(Dictionary)타입이 해쉬 테이블의 예\n",
        "* key를 통해 데이터를 바로 찾을 수 있으므로 검색 속도가 빨라짐\n",
        "* 보통 배열로 미리 Hash Table 사이즈 만큼 생성 후에 사용"
      ],
      "metadata": {
        "id": "NvJ6NhqNg9Iq"
      }
    },
    {
      "cell_type": "markdown",
      "source": [
        "## **2. 알아둘 용어**\n",
        "* 해쉬(Hash) : 임의 값을 고정 길이로 변환하는 것\n",
        "* 해쉬 테이블(Hash Table) : 키 값의 연산에 의해 직접 접근이 가능한 데이터 구조\n",
        "* 해쉬 함수(Hash Function) : key에 대해 산술 연산을 이용해 데이터 위치를 찾을 수 있는 함수\n",
        "* 해쉬 값(Hash Value) 또는 해쉬 주소(Hash Address) : key를 해싱 함수로 연산해서 해쉬 값을 알아내고 이를 기반으로 해쉬 테이블에 해당 key에 대한 데이터 위치를 일관성있게 찾을 수 있음\n",
        "* 슬롯(slot) : 한 개의 데이터를 저장할 수 있는 공간 "
      ],
      "metadata": {
        "id": "jN9hrKbIha-U"
      }
    },
    {
      "cell_type": "markdown",
      "source": [
        "## **3. 간단한 해쉬 예 ***"
      ],
      "metadata": {
        "id": "f0LL0etFiY3Y"
      }
    },
    {
      "cell_type": "markdown",
      "source": [
        "### **3-1. hash table 만들기 ***"
      ],
      "metadata": {
        "id": "yazusPe0idsc"
      }
    },
    {
      "cell_type": "code",
      "source": [
        "hash_table = list([i for i in range(10)])\n",
        "print(hash_table)#[0, 1, 2, 3, 4, 5, 6, 7, 8, 9]"
      ],
      "metadata": {
        "colab": {
          "base_uri": "https://localhost:8080/"
        },
        "id": "PJvW3iITih8U",
        "outputId": "e0f1964f-6f72-4e24-975d-369981d1d8fc"
      },
      "execution_count": null,
      "outputs": [
        {
          "output_type": "stream",
          "name": "stdout",
          "text": [
            "[0, 1, 2, 3, 4, 5, 6, 7, 8, 9]\n"
          ]
        }
      ]
    },
    {
      "cell_type": "markdown",
      "source": [
        "### **3-2. 해쉬 함수 만들기**\n",
        "* 해쉬 함수는 다양한 고안 기법이 잇으며 가장 간단한 방법인 Division법(나누기를 통한 나머지 값을 사용하는 기법)을 사용해보자 "
      ],
      "metadata": {
        "id": "Lz139ae1iqAo"
      }
    },
    {
      "cell_type": "code",
      "source": [
        "def hash_func(key):\n",
        "  return key % 5"
      ],
      "metadata": {
        "id": "A_YILVAGizN8"
      },
      "execution_count": null,
      "outputs": []
    },
    {
      "cell_type": "markdown",
      "source": [
        "### **3-3. 해쉬 테이블에 저장하기 ***\n",
        "* 데이터에 따라 필요시 key 생성 방법 정의가 필요함 "
      ],
      "metadata": {
        "id": "O_q-V_frjhfD"
      }
    },
    {
      "cell_type": "code",
      "source": [
        "data1 = 'orange'\n",
        "data2 = 'banana'\n",
        "data3 = 'apple'\n",
        "data4 = 'melon'\n",
        "\n",
        "#ord() : 문자의 ASCII(아스키)코드를 리턴\n",
        "print(ord(data1[0]), ord(data2[0]), ord(data3[0]))\n",
        "print(ord(data1[0]), hash_func(ord(data1[0])))"
      ],
      "metadata": {
        "colab": {
          "base_uri": "https://localhost:8080/"
        },
        "id": "FpMO331ijsbQ",
        "outputId": "a9a87667-5316-46cc-c9ad-8aa4c68327f9"
      },
      "execution_count": null,
      "outputs": [
        {
          "output_type": "stream",
          "name": "stdout",
          "text": [
            "111 98 97\n",
            "111 1\n"
          ]
        }
      ]
    },
    {
      "cell_type": "code",
      "source": [
        "# 해쉬 테이블에 값을 저장하는 방법\n",
        "# data : value와 같이 data와 value를 넣으면 해당 data에 대한 key를 찾아와 대응하는 해쉬주소에 value를 저장하는 방법\n",
        "def storage_data(data, value):\n",
        "  key = ord(data[0])\n",
        "  hash_address= hash_func(key)\n",
        "  hash_table[hash_address] = value"
      ],
      "metadata": {
        "id": "itsqAuWYkFS8"
      },
      "execution_count": null,
      "outputs": []
    },
    {
      "cell_type": "code",
      "source": [
        "storage_data('apple', '010-1111-1111')\n",
        "storage_data('banana', '010-2222-2222')\n",
        "storage_data('melon', '010-3333-3333')"
      ],
      "metadata": {
        "id": "2w6XP1_qk2C5"
      },
      "execution_count": null,
      "outputs": []
    },
    {
      "cell_type": "code",
      "source": [
        "hash_table"
      ],
      "metadata": {
        "colab": {
          "base_uri": "https://localhost:8080/"
        },
        "id": "7r-rF4IIlAmc",
        "outputId": "1a0b9546-e03d-49f2-dd56-ebdaee83f97a"
      },
      "execution_count": null,
      "outputs": [
        {
          "output_type": "execute_result",
          "data": {
            "text/plain": [
              "[0, 1, '010-1111-1111', '010-2222-2222', '010-3333-3333', 5, 6, 7, 8, 9]"
            ]
          },
          "metadata": {},
          "execution_count": 6
        }
      ]
    },
    {
      "cell_type": "markdown",
      "source": [
        "## **`문제.`**\n",
        "실제 키를 전달받아 저장된 값을 읽어오는 함수를 작성해보자 "
      ],
      "metadata": {
        "id": "f0oKlZjglbUD"
      }
    },
    {
      "cell_type": "code",
      "source": [
        "def get_data(data):\n",
        "  key = ord(data[0])\n",
        "  hash_address = hash_func(key)\n",
        "  return hash_table[hash_address]"
      ],
      "metadata": {
        "id": "HYgEEP2llkYq"
      },
      "execution_count": null,
      "outputs": []
    },
    {
      "cell_type": "code",
      "source": [
        "get_data('melon') # 010-3333-3333"
      ],
      "metadata": {
        "colab": {
          "base_uri": "https://localhost:8080/",
          "height": 35
        },
        "id": "ZVGJkcw5lwOv",
        "outputId": "1d1ee121-3a93-4fb6-ec4f-35691697983a"
      },
      "execution_count": null,
      "outputs": [
        {
          "output_type": "execute_result",
          "data": {
            "text/plain": [
              "'010-3333-3333'"
            ],
            "application/vnd.google.colaboratory.intrinsic+json": {
              "type": "string"
            }
          },
          "metadata": {},
          "execution_count": 8
        }
      ]
    },
    {
      "cell_type": "markdown",
      "source": [
        "### **`문제`**\n",
        "* 리스트 변수를 활용해서 해쉬 테이블 구현하기\n",
        "* 해쉬 함수 : key % 8\n",
        "* 해쉬 키 생성 : hash(data)"
      ],
      "metadata": {
        "id": "YK_6K8PLmouL"
      }
    },
    {
      "cell_type": "code",
      "source": [
        "hash_table = list([0 for i in range(8)])\n",
        "print(hash_table) # [0, 0, 0, 0, 0, 0, 0, 0]"
      ],
      "metadata": {
        "colab": {
          "base_uri": "https://localhost:8080/"
        },
        "id": "APaK3mMJm3jM",
        "outputId": "aca85b5c-bb80-4388-d540-3ca568554db3"
      },
      "execution_count": null,
      "outputs": [
        {
          "output_type": "stream",
          "name": "stdout",
          "text": [
            "[0, 0, 0, 0, 0, 0, 0, 0]\n"
          ]
        }
      ]
    },
    {
      "cell_type": "code",
      "source": [
        "def get_key(data):\n",
        "  return hash(data)\n",
        "def hash_function(key):\n",
        "  return key % 8\n",
        "def save_data(data, value):\n",
        "  hash_address = hash_function(get_key(data))\n",
        "  hash_table[hash_address] = value\n",
        "def read_data(data):\n",
        "  hash_address = hash_function(get_key(data))\n",
        "  return hash_table[hash_address]"
      ],
      "metadata": {
        "id": "isJZHElcnUSv"
      },
      "execution_count": null,
      "outputs": []
    },
    {
      "cell_type": "code",
      "source": [
        "save_data('yoohe', '010-2334-2721')"
      ],
      "metadata": {
        "id": "95yGaNx0nziL"
      },
      "execution_count": null,
      "outputs": []
    },
    {
      "cell_type": "code",
      "source": [
        "print(read_data('yoohe'))\n",
        "print(hash_table)"
      ],
      "metadata": {
        "colab": {
          "base_uri": "https://localhost:8080/"
        },
        "id": "IQQckCsun4kF",
        "outputId": "571e2913-fd23-40e2-f7f1-7dec18cc93de"
      },
      "execution_count": null,
      "outputs": [
        {
          "output_type": "stream",
          "name": "stdout",
          "text": [
            "010-2334-2721\n",
            "[0, 0, 0, 0, '010-2334-2721', 0, 0, 0]\n"
          ]
        }
      ]
    },
    {
      "cell_type": "markdown",
      "source": [
        "## **4. 자료구조 해쉬 테이블의 장단점 ***\n",
        "`장점`\n",
        "* 데이터 저장 및 읽는 속도가 빠름(검색 속도가 빠름)\n",
        "* ✔️해쉬는 키에 대한 데이터가 있는지(중복)확인이 쉽다\n",
        "\n",
        "\n",
        "`단점`\n",
        "  * ✔️ 일반적으로 저장 공간이 많이 필요함\n",
        "  * 여러 키에 해당하는 주소가 동일한 경우에는 충돌을 해결하기 위한 별도의 자료구조가 필요함 \n",
        "\n",
        "\n",
        "\n"
      ],
      "metadata": {
        "id": "IGEElUcPoAJA"
      }
    },
    {
      "cell_type": "markdown",
      "source": [
        "## **5. 충돌(Collision) 해결 알고리즘**\n",
        "* 해쉬 테이블의 가장 큰 문제는 충돌 "
      ],
      "metadata": {
        "id": "eb1BtfESo0Zg"
      }
    },
    {
      "cell_type": "markdown",
      "source": [
        ""
      ],
      "metadata": {
        "id": "X0QEpxnao5cQ"
      }
    },
    {
      "cell_type": "markdown",
      "source": [
        "### **5-1. Linear Probling 기법**\n",
        "* 패쇄 해싱 또는 Close Hashing 기법 중 하나\n",
        "* 해쉬 테이블 저장공간안에서 충돌 문제를 해결하는 기법\n",
        "* 충돌이 일어나면 해당 hash address의 다음 address부터 맨 처음 나오는 빈공간에 저장하는 기법 \n",
        "  * 저장공간 활용도를 높이기 위한 방법"
      ],
      "metadata": {
        "id": "hxw-beGkoNgf"
      }
    },
    {
      "cell_type": "markdown",
      "source": [
        "`문제`\n",
        "\n",
        "1. 해쉬 함수 : key % 8\n",
        "2. 해쉬 키 생성 : hash(data)\n"
      ],
      "metadata": {
        "id": "sDS7R7_WpnN_"
      }
    },
    {
      "cell_type": "code",
      "source": [
        "hash_table = list([0 for i in range(8)])\n",
        "print(hash_table)"
      ],
      "metadata": {
        "colab": {
          "base_uri": "https://localhost:8080/"
        },
        "id": "0gwEb5XNpyAw",
        "outputId": "73f8f45e-aae0-4ee2-80f2-21509a2b9ec4"
      },
      "execution_count": null,
      "outputs": [
        {
          "output_type": "stream",
          "name": "stdout",
          "text": [
            "[0, 0, 0, 0, 0, 0, 0, 0]\n"
          ]
        }
      ]
    },
    {
      "cell_type": "code",
      "source": [
        "def get_key(data):\n",
        "  return hash(data)\n",
        "def hash_function(key):\n",
        "  return key % 8\n",
        "def save_data(data, value):\n",
        "  index_key = get_key(data) # 해쉬 값\n",
        "  hash_address = hash_function(index_key) # 슬롯 값\n",
        "\n",
        "  if hash_table[hash_address] != 0: # 해쉬 테이블의 hash_address번째 방에 값이 이미 있는 경우 ( 충돌 )\n",
        "    for index in range(hash_address, len(hash_table)): # 충돌난 슬롯값방부터 해쉬테이블의 길이-1번째방(마지막 방)에 충돌 데이터 저장시킴(패쇄 해싱)\n",
        "      if hash_table[index] == 0: # 슬롯값 충돌이 안일어나는 방일 경우 \n",
        "        hash_table[index] = [index_key, value] \n",
        "        return\n",
        "      elif hash_table[index][0] == index_key: # 해쉬값 충돌 ( 슬롯값 충돌 x )\n",
        "       hash_table[index][1] = value # value 값 저장 (대체)\n",
        "       return\n",
        "  else: # hash_table[hash_address] == 0 # 충돌 x\n",
        "    hash_table[hash_address] = [index_key, value]\n",
        "def read_data(data):\n",
        "  index_key = get_key(data) # 해쉬 값 \n",
        "  hash_address = hash_function(index_key) # 슬롯 값 \n",
        "\n",
        "  if hash_table[hash_address] != 0:\n",
        "    for index in range(hash_address, len(hash_table)):\n",
        "      if hash_table[index] == 0:\n",
        "        return None\n",
        "      elif hash_table[index][0] == index_key: # 해쉬 값 충돌 ( 슬롯 값 충돌 x )\n",
        "        return hash_table[index][1]\n",
        "  else:\n",
        "    return None\n",
        "\n",
        "      "
      ],
      "metadata": {
        "id": "hz9B-OkUp3Cr"
      },
      "execution_count": null,
      "outputs": []
    },
    {
      "cell_type": "code",
      "source": [
        "save_data('apple', '010-1111-1111')\n",
        "save_data('melon', '010-2222-1111')\n",
        "save_data('strawberry', '010-3333-1111')\n",
        "save_data('banana', '010-4444-1111')\n",
        "save_data('cherry', '010-5555-1111')\n",
        "save_data('avocado', '010-5535-1111')\n"
      ],
      "metadata": {
        "id": "H7ev5jgGv_fL"
      },
      "execution_count": null,
      "outputs": []
    },
    {
      "cell_type": "code",
      "source": [
        "print(hash('apple') % 8) # 0\n",
        "print(hash('melon') % 8) # 2\n",
        "print(hash('strawberry') % 8) # 0 # 충돌 # hash_table[1] 에 데이터 저장됨\n",
        "print(hash('banana') % 8) # 3 \n",
        "print(hash('cherry') % 8) # 4\n",
        "print(hash('avocado') % 8)# 7"
      ],
      "metadata": {
        "colab": {
          "base_uri": "https://localhost:8080/"
        },
        "id": "267U0JMgwK4W",
        "outputId": "bfdd65ea-ff1d-4de2-bba2-61be7ab3bf82"
      },
      "execution_count": null,
      "outputs": [
        {
          "output_type": "stream",
          "name": "stdout",
          "text": [
            "0\n",
            "2\n",
            "0\n",
            "3\n",
            "4\n",
            "7\n"
          ]
        }
      ]
    },
    {
      "cell_type": "code",
      "source": [
        "print(hash_table)"
      ],
      "metadata": {
        "colab": {
          "base_uri": "https://localhost:8080/"
        },
        "id": "Z7g7DzQbwbLj",
        "outputId": "2a0fae9d-e2da-475d-8958-6f7ff5ed97a0"
      },
      "execution_count": null,
      "outputs": [
        {
          "output_type": "stream",
          "name": "stdout",
          "text": [
            "[[8114879098474639800, '010-1111-1111'], [-7186945913740097832, '010-3333-1111'], [3389589749606392754, '010-2222-1111'], [8796228039074526467, '010-4444-1111'], [1865074164882410132, '010-5555-1111'], 0, 0, [7121879683497874151, '010-5535-1111']]\n"
          ]
        }
      ]
    },
    {
      "cell_type": "code",
      "source": [
        "read_data('strawberry') # 010-5535-1111 , avocado의 value로 대체 "
      ],
      "metadata": {
        "colab": {
          "base_uri": "https://localhost:8080/",
          "height": 35
        },
        "id": "XoNTzXf2wgC5",
        "outputId": "cc7d0ce0-e1b6-4591-8fb1-09d207bb235b"
      },
      "execution_count": null,
      "outputs": [
        {
          "output_type": "execute_result",
          "data": {
            "text/plain": [
              "'010-5535-1111'"
            ],
            "application/vnd.google.colaboratory.intrinsic+json": {
              "type": "string"
            }
          },
          "metadata": {},
          "execution_count": 32
        }
      ]
    },
    {
      "cell_type": "code",
      "source": [
        "read_data('avocado') # 010-5535-1111"
      ],
      "metadata": {
        "colab": {
          "base_uri": "https://localhost:8080/",
          "height": 35
        },
        "id": "iKjmTnW0xNTL",
        "outputId": "de9fb91f-1b22-4157-db76-ddb4aea6ccf2"
      },
      "execution_count": null,
      "outputs": [
        {
          "output_type": "execute_result",
          "data": {
            "text/plain": [
              "'010-5535-1111'"
            ],
            "application/vnd.google.colaboratory.intrinsic+json": {
              "type": "string"
            }
          },
          "metadata": {},
          "execution_count": 33
        }
      ]
    },
    {
      "cell_type": "markdown",
      "source": [
        "### **5-2. Chaining 기법**\n",
        "* 개방 해쉬 또는 Open hashing 기법 중 하나\n",
        "* 해쉬 테이블 저장공간 외의 공간을 활용하는 방법\n",
        "* 충돌이 일어나면 링크드 리스트 자료구조를 사용하여 링크드 리스트로 데이터를 추가로 뒤에 연결시켜 저장하는 방법 "
      ],
      "metadata": {
        "id": "Fc0TdwUoxQuH"
      }
    },
    {
      "cell_type": "code",
      "source": [
        "hash_table = list([0 for i in range(8)])\n",
        "print(hash_table)"
      ],
      "metadata": {
        "colab": {
          "base_uri": "https://localhost:8080/"
        },
        "id": "Gd34mndTxucu",
        "outputId": "f9b7a865-5e46-417c-9408-eafb9699faf2"
      },
      "execution_count": null,
      "outputs": [
        {
          "output_type": "stream",
          "name": "stdout",
          "text": [
            "[0, 0, 0, 0, 0, 0, 0, 0]\n"
          ]
        }
      ]
    },
    {
      "cell_type": "code",
      "source": [
        "def get_key(data):\n",
        "  return hash(data)\n",
        "def hash_function(key):\n",
        "  return key % 8\n",
        "def save_data(data, value):\n",
        "  index_key = get_key(data)\n",
        "  hash_address = hash_function(index_key)\n",
        "  if hash_table[hash_address] != 0: # 충돌\n",
        "    for index in range(len(hash_table[hash_address])):\n",
        "      if hash_table[hash_address][index][0] == index_key: # 해쉬 값 충돌 o (슬롯 값 충돌 x)\n",
        "        hash_table[hash_address][index][1] = value # value값 저장(대체)\n",
        "        return\n",
        "    hash_table[hash_address].append([index_key, value])\n",
        "  else: # 충돌 x \n",
        "    hash_table[hash_address] = [[index_key, value]] # 충돌이 날 경우에는 해당 슬롯에 key,value를 리스트형태로 append시키기 때문에 충돌이 안나는 경우도 [[]]\n",
        "def read_data(data):\n",
        "  index_key = get_key(data)\n",
        "  hash_address = hash_function(index_key)\n",
        "  if hash_table[hash_address] != 0:\n",
        "    for index in range(len(hash_table[hash_address])):\n",
        "      if hash_table[hash_address][index][0] == index_key:\n",
        "        return hash_table[hash_address][index][1]\n",
        "  else:\n",
        "    return None      \n"
      ],
      "metadata": {
        "id": "gKlMAyu1ycyz"
      },
      "execution_count": null,
      "outputs": []
    },
    {
      "cell_type": "code",
      "source": [
        "save_data('apple', '010-1111-1111')\n",
        "save_data('melon', '010-2222-1111')\n",
        "save_data('strawberry', '010-3333-1111')\n",
        "save_data('banana', '010-4444-1111')\n",
        "save_data('cherry', '010-5555-1111')\n",
        "save_data('avocado', '010-5535-1111')\n"
      ],
      "metadata": {
        "id": "mn4fqfwVr32F"
      },
      "execution_count": null,
      "outputs": []
    },
    {
      "cell_type": "code",
      "source": [
        "print(hash('apple') % 8) # 0\n",
        "print(hash('melon') % 8) # 2\n",
        "print(hash('strawberry') % 8) # 0 # 충돌 # hash_table[1] 에 데이터 저장됨\n",
        "print(hash('banana') % 8) # 3 \n",
        "print(hash('cherry') % 8) # 4\n",
        "print(hash('avocado') % 8)# 7"
      ],
      "metadata": {
        "colab": {
          "base_uri": "https://localhost:8080/"
        },
        "id": "cp6koWy9sNYD",
        "outputId": "15ebf3c6-977a-4ee5-e0a6-179932995a55"
      },
      "execution_count": null,
      "outputs": [
        {
          "output_type": "stream",
          "name": "stdout",
          "text": [
            "0\n",
            "2\n",
            "0\n",
            "3\n",
            "4\n",
            "7\n"
          ]
        }
      ]
    },
    {
      "cell_type": "code",
      "source": [
        "hash_table"
      ],
      "metadata": {
        "colab": {
          "base_uri": "https://localhost:8080/"
        },
        "id": "c6J6EpoLtPXZ",
        "outputId": "de2601cd-0565-472f-c59d-73a0cdf74087"
      },
      "execution_count": null,
      "outputs": [
        {
          "output_type": "execute_result",
          "data": {
            "text/plain": [
              "[[[8114879098474639800, '010-1111-1111'],\n",
              "  [-7186945913740097832, '010-3333-1111']],\n",
              " 0,\n",
              " [[3389589749606392754, '010-2222-1111']],\n",
              " [[8796228039074526467, '010-4444-1111']],\n",
              " [[1865074164882410132, '010-5555-1111']],\n",
              " 0,\n",
              " 0,\n",
              " [[7121879683497874151, '010-5535-1111']]]"
            ]
          },
          "metadata": {},
          "execution_count": 19
        }
      ]
    },
    {
      "cell_type": "code",
      "source": [
        "read_data('strawberry')"
      ],
      "metadata": {
        "colab": {
          "base_uri": "https://localhost:8080/",
          "height": 35
        },
        "id": "gSknj3b5tVcG",
        "outputId": "b2f62f8c-586d-4805-9f42-a33b49cfb8a5"
      },
      "execution_count": null,
      "outputs": [
        {
          "output_type": "execute_result",
          "data": {
            "text/plain": [
              "'010-3333-1111'"
            ],
            "application/vnd.google.colaboratory.intrinsic+json": {
              "type": "string"
            }
          },
          "metadata": {},
          "execution_count": 20
        }
      ]
    },
    {
      "cell_type": "markdown",
      "source": [
        "## **6. 해쉬 함수와 키 생성 함수 ***\n",
        "* 파이썬의 hash()함수는 실행할 때마다 값이 달라질 수 있음\n",
        "* SHA(Secure Hash Algorithm , 안전한 해쉬 알고리즘)와 같은 유명한 해쉬 알고리즘이 있음\n",
        "* 어떤 데이터도 유일한 고정된 크기의 고정값을 리턴해주므로 해쉬 함수로 유용하게 활용 가능 "
      ],
      "metadata": {
        "id": "GsSLP8E5th93"
      }
    },
    {
      "cell_type": "markdown",
      "source": [
        "### **6-1. SHA-1**"
      ],
      "metadata": {
        "id": "Eq9mZWbNtwer"
      }
    },
    {
      "cell_type": "code",
      "source": [
        "import hashlib\n",
        "\n",
        "data = 'test'.encode()\n",
        "print(data) # b'test'\n",
        "hash_object = hashlib.sha1()\n",
        "print(hash_object)\n",
        "hash_object.update(data)\n",
        "hex_dig = hash_object.hexdigest()\n",
        "print(hex_dig)# 16진수로 고정된 해쉬값(20바이트)\n",
        "print(int(hex_dig, 16)) #10진수롤 고정된 해쉬 값 "
      ],
      "metadata": {
        "colab": {
          "base_uri": "https://localhost:8080/"
        },
        "id": "pwIr2q1tt0AR",
        "outputId": "3425207d-e609-4982-bfc4-bc7aedf9db16"
      },
      "execution_count": null,
      "outputs": [
        {
          "output_type": "stream",
          "name": "stdout",
          "text": [
            "b'test'\n",
            "<sha1 HASH object @ 0x7f268df5f7e0>\n",
            "a94a8fe5ccb19ba61c4c0873d391e987982fbbd3\n",
            "966482230667555116936258103322711973649032657875\n"
          ]
        }
      ]
    },
    {
      "cell_type": "markdown",
      "source": [
        "✔️컴퓨터의 용량단위\n",
        "* 1bit : 0또는 1\n",
        "* 8bit : 1byte\n",
        "* 1024byte : 1KB ( 2**13bit)\n",
        "* 1024KB : 1MB (2 ** 23bit)\n",
        "* 1024MB : 1GB ( 2 ** 33 bit)\n",
        "* 1024GB : 1TB ( 2 ** 43bit)\n",
        "* 1024TB : 1PB ( 2** 53bit)"
      ],
      "metadata": {
        "id": "k3amTDmlwZlD"
      }
    },
    {
      "cell_type": "markdown",
      "source": [
        "### **6-2. SHA-256**\n",
        "* SHA 알고리즘의 한 종류로 256비트로 구성되어 64자리 문자열을 반환\n",
        "* SHA-2 계열 중 하나이며 블록체인에서 가장 많이 채택하여 사용"
      ],
      "metadata": {
        "id": "dWalXRS5xfsn"
      }
    },
    {
      "cell_type": "code",
      "source": [
        "import hashlib\n",
        "data = 'test'.encode()\n",
        "print(data)\n",
        "hash_object = hashlib.sha256()\n",
        "print(hash_object)\n",
        "hash_object.update(data)\n",
        "hex_idg = hash_object.hexdigest()\n",
        "print(hex_dig) # 16진수로 고정된 해쉬 값\n",
        "print(int(hex_dig, 16)) # 10진수로 고정된 해쉬 값"
      ],
      "metadata": {
        "colab": {
          "base_uri": "https://localhost:8080/"
        },
        "id": "G8N8i80yxqJg",
        "outputId": "276ad694-c897-4724-86e2-d259cc2de6d9"
      },
      "execution_count": null,
      "outputs": [
        {
          "output_type": "stream",
          "name": "stdout",
          "text": [
            "b'test'\n",
            "<sha256 HASH object @ 0x7f2682c10450>\n",
            "a94a8fe5ccb19ba61c4c0873d391e987982fbbd3\n",
            "966482230667555116936258103322711973649032657875\n"
          ]
        }
      ]
    },
    {
      "cell_type": "markdown",
      "source": [
        "`문제`\n",
        "\n",
        "Chaining 기번을 적용한 해쉬 테이블 코드에 키 생성 함수 sha256 해쉬 알고리즘을 사용하도록 변경해보자\n",
        "\n",
        "1. 해쉬함수 : key % 8\n",
        "2. 해쉬 키 생성 : sha256(data)\n",
        "\n"
      ],
      "metadata": {
        "id": "esc-613SyL01"
      }
    },
    {
      "cell_type": "code",
      "source": [
        "import hashlib \n",
        "\n",
        "hash_table = list([0 for i in range(8)])\n",
        "\n",
        "def get_key(data):\n",
        "  hash_object = hashlib.sha256()\n",
        "  hash_object.update(data.encode())\n",
        "  hex_dig = hash_object.hexdigest()\n",
        "  return int(hex_dig, 16)\n",
        "def hash_function(key):\n",
        "  return key % 8\n",
        "def save_data(data, value):\n",
        "  index_key = get_key(data)\n",
        "  hash_address = hash_function(index_key)\n",
        "\n",
        "  if hash_table[hash_address] != 0:\n",
        "    for index in range(len(hash_table[hash_address])):\n",
        "      if hash_table[hash_address][index][0] == index_key:\n",
        "        hash_table[hash_address][index][1] = value\n",
        "        return\n",
        "    hash_table[hash_address].append([index_key, value])\n",
        "  else:\n",
        "    hash_table[hash_address] = [[index_key, value]]\n",
        "def read_data(data):\n",
        "  index_key = get_key(data)\n",
        "  hash_address = hash_function(index_key)\n",
        "\n",
        "  if hash_table[hash_address] != 0:\n",
        "    for index in range(len(hash_table[hash_address])):\n",
        "      if hash_table[hash_address][index][0] == index_key:\n",
        "        return hash_table[hash_address][index][1]\n",
        "  else: \n",
        "     return None"
      ],
      "metadata": {
        "id": "XovQyxRiyjMj"
      },
      "execution_count": null,
      "outputs": []
    },
    {
      "cell_type": "code",
      "source": [
        "save_data('apple', '010-1111-1111')\n",
        "save_data('melon', '010-2222-1111')\n",
        "save_data('strawberry', '010-3333-1111')\n",
        "save_data('banana', '010-4444-1111')\n",
        "save_data('cherry', '010-5555-1111')\n",
        "save_data('avocado', '010-5535-1111')\n"
      ],
      "metadata": {
        "id": "B3hVKysF0Eli"
      },
      "execution_count": null,
      "outputs": []
    },
    {
      "cell_type": "code",
      "source": [
        "print(hash_function(get_key('apple')))\n",
        "print(hash_function(get_key('melon')))\n",
        "print(hash_function(get_key('strawberry')))\n",
        "print(hash_function(get_key('banana')))\n",
        "print(hash_function(get_key('cherry')))\n",
        "print(hash_function(get_key('avocado')))\n"
      ],
      "metadata": {
        "colab": {
          "base_uri": "https://localhost:8080/"
        },
        "id": "K5BFlIwK0JM8",
        "outputId": "07a78e5b-7bf4-4bba-a012-d4b7ef67ec96"
      },
      "execution_count": null,
      "outputs": [
        {
          "output_type": "stream",
          "name": "stdout",
          "text": [
            "3\n",
            "7\n",
            "2\n",
            "6\n",
            "6\n",
            "0\n"
          ]
        }
      ]
    },
    {
      "cell_type": "code",
      "source": [
        "hash_table"
      ],
      "metadata": {
        "colab": {
          "base_uri": "https://localhost:8080/"
        },
        "id": "9AXyr4Iu0ogt",
        "outputId": "3df6fae8-220f-43a8-ed37-bfad22b76513"
      },
      "execution_count": null,
      "outputs": [
        {
          "output_type": "execute_result",
          "data": {
            "text/plain": [
              "[[[112982323934352589425180049383729697652692462823327605015335539780563025432096,\n",
              "   '010-5535-1111']],\n",
              " 0,\n",
              " [[42721475397702198029768379268255707372727786854895682575627338675230957469594,\n",
              "   '010-3333-1111']],\n",
              " [[26452929773915387181124022930352263286101059613432915788569047929437325971227,\n",
              "   '010-1111-1111']],\n",
              " 0,\n",
              " 0,\n",
              " [[81677505976092492256788526045794788656350341275302681754807117191827310239310,\n",
              "   '010-4444-1111'],\n",
              "  [20663375971449343567437890939728808532354865817022289781333181590448322644526,\n",
              "   '010-5555-1111']],\n",
              " [[75635856040252375081268883667212387409410230564410600651936135151777611054631,\n",
              "   '010-2222-1111']]]"
            ]
          },
          "metadata": {},
          "execution_count": 32
        }
      ]
    },
    {
      "cell_type": "code",
      "source": [
        "read_data('cherry')"
      ],
      "metadata": {
        "colab": {
          "base_uri": "https://localhost:8080/",
          "height": 35
        },
        "id": "MPgcuIej07gw",
        "outputId": "15cd9b50-55e4-4f31-e440-7d3aac7022a0"
      },
      "execution_count": null,
      "outputs": [
        {
          "output_type": "execute_result",
          "data": {
            "text/plain": [
              "'010-5555-1111'"
            ],
            "application/vnd.google.colaboratory.intrinsic+json": {
              "type": "string"
            }
          },
          "metadata": {},
          "execution_count": 33
        }
      ]
    }
  ]
}