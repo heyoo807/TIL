{
  "nbformat": 4,
  "nbformat_minor": 0,
  "metadata": {
    "colab": {
      "name": "0710TIL_힙.ipynb",
      "provenance": [],
      "collapsed_sections": [],
      "authorship_tag": "ABX9TyNOFvaVvQzvU1XIOIH0SXT0",
      "include_colab_link": true
    },
    "kernelspec": {
      "name": "python3",
      "display_name": "Python 3"
    },
    "language_info": {
      "name": "python"
    }
  },
  "cells": [
    {
      "cell_type": "markdown",
      "metadata": {
        "id": "view-in-github",
        "colab_type": "text"
      },
      "source": [
        "<a href=\"https://colab.research.google.com/github/heyoo807/TIL/blob/master/0710TIL_%ED%9E%99.ipynb\" target=\"_parent\"><img src=\"https://colab.research.google.com/assets/colab-badge.svg\" alt=\"Open In Colab\"/></a>"
      ]
    },
    {
      "cell_type": "markdown",
      "source": [
        "## **1. 힙(Heap)**\n"
      ],
      "metadata": {
        "id": "0kZVrsSKIusx"
      }
    },
    {
      "cell_type": "markdown",
      "source": [
        "### **1-1. 힙이란 ? ***\n",
        "* 데이터에서 최대값과 최소값을 빠르게 찾기 위해 고안된 완전 이진 트리(Complete Binary Tree)\n",
        "* 완전 이진 트리 : 노드를 삽입할 때 최하단 왼쪽 노드부터 차례대로 삽입하는 트리 "
      ],
      "metadata": {
        "id": "0amPzOxMJQYn"
      }
    },
    {
      "cell_type": "markdown",
      "source": [
        "### **1-2. 힙을 사용하는 이유**\n",
        "* 배열에 데이터를 넣고 최대값 최소값을 찾으려면 시간복잡도는 O(n)이 걸림\n",
        "* 힙에 데이터를 넣고 최대값과 최소값을 찾으려면 시간복잡도는  O(log n)이 걸림\n",
        "* 우선순위 큐와 같이 최대값 또는 최소값을 빠르게 찾아야하는 자료구조 및 알고리즘 구현등에 활용됨"
      ],
      "metadata": {
        "id": "oT5FOvapJyro"
      }
    },
    {
      "cell_type": "markdown",
      "source": [
        "## **2. 힙의 구조**\n",
        "* 힙은 최대값을 구하기 위한 구조(최대 힙, Max Heap)와 최소값을 구하기 위한 구조(최소 힙, Mean Heap)으로 분류할 수 있음\n",
        "* 힙은 아래와 같이 두 가지 조건을 가지고 있는 자료구조\n",
        "  * 1. 각 노드의 값은 해당 노드의 자식 노드가 가진 값보다 크거나 같다(최대힙의 경우)\n",
        "  * 2. 완전 이진 트리 형태를 가짐"
      ],
      "metadata": {
        "id": "Cgs6KyLmKCRD"
      }
    },
    {
      "cell_type": "markdown",
      "source": [
        "### **2-1. 힙과 이진 탐색 트리의 공통점과 차이점 ***\n",
        "1. 공통점\n",
        "  * 힙과 이진 탐색 트리는 모두 이진 트리\n",
        "2. 차이점\n",
        "  * 힙은 각 노드의 값이 자식 노드보다 크거나 같음\n",
        "  * 이진 탐색 트리는 왼쪽 자식 노드의 값이 가장 작고, 그 다음 부모 노드 , 그 다음 오른쪽 자식 노드의 값이 가장 큼\n",
        "  * 힙은 이진 탐색 트리의 조건인 자식 노드에서 작은 값은 왼쪽, 큰 값은 오른쪽이라는 조건이 없음\n",
        "    * 힙의 왼쪽 및 오른쪽 자식 노드의 값은 오른쪽이 클 수도 있고 왼쪽이 클 수도 있음"
      ],
      "metadata": {
        "id": "55_m9w0xLOig"
      }
    },
    {
      "cell_type": "markdown",
      "source": [
        "## **3. 힙의 동작**"
      ],
      "metadata": {
        "id": "XzzCfYuAL0rM"
      }
    },
    {
      "cell_type": "markdown",
      "source": [
        "### **3-1. 힙에 데이터 삽입하기**\n",
        "  * 힙은 완전 이진 트리이므로 삽입할 노드는 기본적으로 왼쪽 최하단 부 노드부터 채워지는 형태로 삽입\n",
        "  * 채워진 노드 위치에서 부모 노드보다 값이 클경우, 부모 노드와 위치를 바꿔주는  작업(swap)을 반복함 "
      ],
      "metadata": {
        "id": "BLmqbqooL3we"
      }
    },
    {
      "cell_type": "markdown",
      "source": [
        "### **3-2. 힙 데이터 삭제하기**\n",
        "* 최상단 노드를 삭제하는 것이 일반적\n",
        "* 힙의 요소는 최대값 또는 최소값을 root 노드에 놓아서 최대값과 최소값을 바로 꺼내 쓸 수 있도록 하는 것\n",
        "* 상단의 데이터 삭제 시 가장 최하단부 왼쪽에 위치하 노드(일반적ㅇ로 가장 마지막에 추가한 노드)를 root노드로 이동\n",
        "* root노드의 값이 child node보다 작을 경우, root 노드의 child node 중 가장 큰 값을 가진 노드와 root노드 위치를 바꿔주는 작업(swap)을 반복"
      ],
      "metadata": {
        "id": "7wovIlQwML65"
      }
    },
    {
      "cell_type": "markdown",
      "source": [
        "## **4. 힙 구현**\n",
        "* 힙 구현시 배열 자료구조를 활용함\n",
        "* 배열은 인덱스가 0번부터 시작하지만 힙 구현의 편의를 위해 root노드 인덱스 번호를 1로 지정하면 구현이 좀 더 수월하다\n",
        "  * 부모 노드 인덱스 번호 = 자식 노드 인덱스 번호 // 2\n",
        "  * 왼쪽 자식 노드 인덱스 번호 = 부모 노드 인덱스 번호 * 2\n",
        "  * 오른쪽 자식 노드 인덱스 번호 = 부모 노드 인덱스 번호 * 2 + 1"
      ],
      "metadata": {
        "id": "UqWxBm6ZOU-k"
      }
    },
    {
      "cell_type": "markdown",
      "source": [
        "### **4-1. 힙 클래스 구현 ***"
      ],
      "metadata": {
        "id": "9h5QzNx6Om5W"
      }
    },
    {
      "cell_type": "code",
      "source": [
        "class Heap:\n",
        "  def __init__(self, data):\n",
        "    self.heap_array = list()\n",
        "    self.heap_array.append(None)\n",
        "    self.heap_array.append(data)"
      ],
      "metadata": {
        "id": "vyqtPAJ3OuRh"
      },
      "execution_count": null,
      "outputs": []
    },
    {
      "cell_type": "code",
      "source": [
        "heap = Heap(1)\n",
        "heap.heap_array"
      ],
      "metadata": {
        "colab": {
          "base_uri": "https://localhost:8080/"
        },
        "id": "7mCUvrWVO9_5",
        "outputId": "fbf579ca-75af-43d6-cd62-cad9d22a9e40"
      },
      "execution_count": null,
      "outputs": [
        {
          "output_type": "execute_result",
          "data": {
            "text/plain": [
              "[None, 1]"
            ]
          },
          "metadata": {},
          "execution_count": 2
        }
      ]
    },
    {
      "cell_type": "markdown",
      "source": [
        "### **4-2. 삽입 구현**"
      ],
      "metadata": {
        "id": "6Rg7LpShPE8E"
      }
    },
    {
      "cell_type": "code",
      "source": [
        "class Heap:\n",
        "  def __init__(self, data):\n",
        "    self.heap_array = list()\n",
        "    self.heap_array.append(None)\n",
        "    self.heap_array.append(data)\n",
        "  def insert(self, data):\n",
        "    if len(self.heap_array) == 0:\n",
        "      self.heap_array.append(None)\n",
        "      self.heap_array.append(data)\n",
        "      return True\n",
        "    self.heap_array.append(data)\n",
        "    return True"
      ],
      "metadata": {
        "id": "rRnNeZEyPHWE"
      },
      "execution_count": null,
      "outputs": []
    },
    {
      "cell_type": "markdown",
      "source": [
        "* 삽입한 노드가 부모 노드의 값보다 클 경우, 부모 노드와 삽입한 노드 위치를 바꿈\n",
        "* 삽입한 노드가 루트 노드가 되거나, 부모 노드봗 값이 작거나 같을 경우까지 반복"
      ],
      "metadata": {
        "id": "jspFK70iPa5Y"
      }
    },
    {
      "cell_type": "code",
      "source": [
        "heap = Heap(15)\n",
        "heap.insert(10)\n",
        "heap.insert(8)\n",
        "heap.insert(5)\n",
        "heap.insert(4)\n",
        "heap.insert(20)\n",
        "heap.heap_array"
      ],
      "metadata": {
        "colab": {
          "base_uri": "https://localhost:8080/"
        },
        "id": "ENGAkNOgJCPU",
        "outputId": "49c2590c-71e6-4d46-ca73-95f57d804213"
      },
      "execution_count": null,
      "outputs": [
        {
          "output_type": "execute_result",
          "data": {
            "text/plain": [
              "[None, 15, 10, 8, 5, 4, 20]"
            ]
          },
          "metadata": {},
          "execution_count": 4
        }
      ]
    },
    {
      "cell_type": "code",
      "source": [
        "class Heap:\n",
        "  def __init__(self, data):\n",
        "    self.heap_array = list()\n",
        "    self.heap_array.append(None)\n",
        "    self.heap_array.append(data)\n",
        "  def insert(self, data):\n",
        "    if len(self.heap_array) == 0:\n",
        "      self.heap_array.append(None)\n",
        "      self.heap_array.append(data)\n",
        "      return True\n",
        "    self.heap_array.append(data)\n",
        "\n",
        "    inserted_idx = len(self.heap_array) - 1\n",
        "\n",
        "    while self.move_up(inserted_idx):\n",
        "      parent_idx = inserted_idx // 2\n",
        "      self.heap_array[inserted_idx], self.heap_array[parent_idx] = self.heap_array[parent_idx], self.heap_array[inserted_idx]\n",
        "      inserted_idx = parent_idx\n",
        "    return True\n",
        "  def move_up(self, inserted_idx):\n",
        "   if inserted_idx <= 1:\n",
        "     return False\n",
        "   parent_idx = inserted_idx // 2\n",
        "   if self.heap_array[inserted_idx] > self.heap_array[parent_idx]:\n",
        "     return True\n",
        "   else:\n",
        "     return False\n",
        "\n",
        "\n"
      ],
      "metadata": {
        "id": "LhEBg1P-JRys"
      },
      "execution_count": null,
      "outputs": []
    },
    {
      "cell_type": "code",
      "source": [
        "heap = Heap(15)\n",
        "heap.insert(10)\n",
        "heap.insert(8)\n",
        "heap.insert(5)\n",
        "heap.insert(4)\n",
        "heap.insert(20)\n",
        "heap.heap_array"
      ],
      "metadata": {
        "colab": {
          "base_uri": "https://localhost:8080/"
        },
        "id": "EwlqxlR2L3Bh",
        "outputId": "b90834f2-2ccf-4400-80e1-47fad8da1677"
      },
      "execution_count": null,
      "outputs": [
        {
          "output_type": "execute_result",
          "data": {
            "text/plain": [
              "[None, 20, 10, 15, 5, 4, 8]"
            ]
          },
          "metadata": {},
          "execution_count": 9
        }
      ]
    },
    {
      "cell_type": "markdown",
      "source": [
        "### **4-3. 삭제 구현**\n",
        "* 최상단 노드(root 노드)를 삭제하는 것이 일반적"
      ],
      "metadata": {
        "id": "D8dhpQWWKNO3"
      }
    },
    {
      "cell_type": "code",
      "source": [
        "class Heap:\n",
        "  def __init__(self, data):\n",
        "    self.heap_array = list()\n",
        "    self.heap_array.append(None)\n",
        "    self.heap_array.append(data)\n",
        "  def pop(self):\n",
        "    if len(self.heap_array) <= 1:\n",
        "      return None\n",
        "    returned_data = self.heap_array[1]\n",
        "    return returned_data"
      ],
      "metadata": {
        "id": "uir87v0uMHm_"
      },
      "execution_count": null,
      "outputs": []
    },
    {
      "cell_type": "markdown",
      "source": [
        "* 상단의 데이터 삭제 시 가장 최하단 부 왼쪽에 위치한 노드(일반적으로 가장 마지막에 추가한 노드)를 root 노드로 이동\n",
        "* root 노드의 값이 child node보다 작을 경우, root 노드의 child node중 가장 큰 값을 가진 노드와 root 노드 위치를 바꿔주는 작업(swap)을 반복함"
      ],
      "metadata": {
        "id": "jU69M-j8MZFU"
      }
    },
    {
      "cell_type": "code",
      "source": [
        "class Heap:\n",
        "  def __init__(self, data):\n",
        "    self.heap_array = list()\n",
        "    self.heap_array.append(None)\n",
        "    self.heap_array.append(data)\n",
        "  def pop(self):\n",
        "    if len(self.heap_array) <= 1:\n",
        "      return None\n",
        "    returned_data = self.heap_array[1]\n",
        "    return returned_data\n",
        "  def insert(self, data):\n",
        "    if len(self.heap_array) == 0:\n",
        "      self.heap_array.append(None)\n",
        "      self.heap_array.append(data)\n",
        "      return True\n",
        "\n",
        "    self.heap_array.append(data)\n",
        "    \n",
        "    inserted_idx = len(self.heap_array) - 1\n",
        "\n",
        "    while self.move_up(inserted_idx):\n",
        "      parent_idx = inserted_idx // 2\n",
        "      self.heap_array[inserted_idx], self.heap_array[parent_idx] = self.heap_array[parent_idx], self.heap_array[inserted_idx]\n",
        "      inserted_idx = parent_idx\n",
        "    return True\n",
        "\n",
        "  def move_up(self, inserted_idx):\n",
        "    if inserted_idx <= 1:\n",
        "      return False\n",
        "    parent_idx = inserted_idx // 2\n",
        "    if self.heap_array[inserted_idx] > self.heap_array[parent_idx]:\n",
        "      return True\n",
        "    else:\n",
        "      return False\n",
        "    "
      ],
      "metadata": {
        "id": "NpAjyohjOnJA"
      },
      "execution_count": null,
      "outputs": []
    },
    {
      "cell_type": "code",
      "source": [
        "heap = Heap(15)\n",
        "heap.insert(10)\n",
        "heap.insert(8)\n",
        "heap.insert(5)\n",
        "heap.insert(4)\n",
        "heap.insert(20)\n",
        "heap.heap_array\n"
      ],
      "metadata": {
        "colab": {
          "base_uri": "https://localhost:8080/"
        },
        "id": "5BvtQNuOul1I",
        "outputId": "c3478faf-bb5f-440f-8825-e4600949d074"
      },
      "execution_count": null,
      "outputs": [
        {
          "output_type": "execute_result",
          "data": {
            "text/plain": [
              "[None, 20, 10, 15, 5, 4, 8]"
            ]
          },
          "metadata": {},
          "execution_count": 2
        }
      ]
    },
    {
      "cell_type": "code",
      "source": [
        "heap.pop()"
      ],
      "metadata": {
        "colab": {
          "base_uri": "https://localhost:8080/"
        },
        "id": "Id-i2tAxutze",
        "outputId": "ebe269d1-42ad-40e8-e3ca-3598b7a1767c"
      },
      "execution_count": null,
      "outputs": [
        {
          "output_type": "execute_result",
          "data": {
            "text/plain": [
              "20"
            ]
          },
          "metadata": {},
          "execution_count": 3
        }
      ]
    },
    {
      "cell_type": "code",
      "source": [
        "heap.heap_array"
      ],
      "metadata": {
        "colab": {
          "base_uri": "https://localhost:8080/"
        },
        "id": "d2UIwjDxuwO7",
        "outputId": "66e45bf0-215c-4a77-a137-89a38c6afaa4"
      },
      "execution_count": null,
      "outputs": [
        {
          "output_type": "execute_result",
          "data": {
            "text/plain": [
              "[None, 20, 10, 15, 5, 4, 8]"
            ]
          },
          "metadata": {},
          "execution_count": 4
        }
      ]
    },
    {
      "cell_type": "code",
      "source": [
        "class Heap:\n",
        "  def __init__(self, data):\n",
        "    self.heap_array = list()\n",
        "    self.heap_array.append(None)\n",
        "    self.heap_array.append(data)\n",
        "  def pop(self):\n",
        "    if len(self.heap_array) <= 1:\n",
        "      return None\n",
        "    returned_data = self.heap_array[1]\n",
        "    self.heap_array[1] = self.heap_array[-1]\n",
        "    del self.heap_array[-1]\n",
        "    poped_idx = 1\n",
        "\n",
        "    while self.move_down(poped_idx):\n",
        "      left_child_poped_idx = poped_idx * 2\n",
        "      right_child_poped_idx = poped_idx * 2 + 1\n",
        "\n",
        "      # 왼쪽 자식 노드만 있을 경우\n",
        "      if right_child_poped_idx >= len(self.heap_array):\n",
        "        if self.heap_array[poped_idx] < self.heap_array[left_child_poped_idx]:\n",
        "          self.heap_array[poped_idx], self.heap_array[left_child_poped_idx] = self.heap_array[left_child_poped_idx], self.heap_array[poped_idx]\n",
        "          poped_idx = left_child_poped_idx\n",
        "      # 왼쪽 자식 노드, 오른쪽 자식 노드 모두 있을 경우\n",
        "      else:\n",
        "        if self.heap_array[left_child_poped_idx] > self.heap_array[right_child_poped_idx]:\n",
        "          if self.heap_array[left_child_poped_idx] > self.heap_array[poped_idx]:\n",
        "            self.heap_array[left_child_poped_idx], self.heap_array[poped_idx] = self.heap_array[poped_idx], self.heap_array[left_child_poped_idx]\n",
        "            poped_idx = left_child_poped_idx # 왜\n",
        "        else:\n",
        "          if self.heap_array[right_child_poped_idx] > self.heap_array[left_child_poped_idx]:\n",
        "            self.heap_array[right_child_poped_idx], self.heap_array[poped_idx] = self.heap_array[poped_idx], self.heap_array[right_child_poped_idx]\n",
        "            poped_idx = right_child_poped_idx # 왜 \n",
        "      return returned_data\n",
        "\n",
        "  def move_down(self, poped_idx):\n",
        "    left_child_poped_idx = poped_idx * 2\n",
        "    right_child_poped_idx = poped_idx * 2 + 1\n",
        "    # 왼쪽 자식 노드도 없을 때\n",
        "    if left_child_poped_idx >= len(self.heap_array):\n",
        "      return False\n",
        "    # 왼쪽 자식 노드만 있을 때 \n",
        "    elif right_child_poped_idx >= len(self.heap_array):\n",
        "      if self.heap_array[poped_idx] < self.heap_array[left_child_poped_idx]:\n",
        "        return True\n",
        "      else:\n",
        "        return False\n",
        "    # 왼쪽 오른쪽 자식 노드가 모두 있을 때\n",
        "    else:\n",
        "      if self.heap_array[left_child_poped_idx] > self.heap_array[right_child_poped_idx]: # 왼쪽 자식 노드 > 오른쪽 자식 노드 \n",
        "        if self.heap_array[poped_idx] < self.heap_array[left_child_poped_idx]:\n",
        "          return True\n",
        "        else:\n",
        "          return False\n",
        "      else: # 왼쪽 자식 노드 < 오른쪽 자식 노드\n",
        "        if self.heap_array[poped_idx] < self.heap_array[right_child_poped_idx]:\n",
        "          return True\n",
        "        else:\n",
        "          return False\n",
        "  def insert(self, data):\n",
        "    if len(self.heap_array) == 0:\n",
        "      self.heap_array.append(None)\n",
        "      self.heap_array.append(data)\n",
        "      return True\n",
        "\n",
        "    self.heap_array.append(data)\n",
        "    \n",
        "    inserted_idx = len(self.heap_array) - 1\n",
        "\n",
        "    while self.move_up(inserted_idx):\n",
        "      parent_idx = inserted_idx // 2\n",
        "      self.heap_array[inserted_idx], self.heap_array[parent_idx] = self.heap_array[parent_idx], self.heap_array[inserted_idx]\n",
        "      inserted_idx = parent_idx\n",
        "    return True\n",
        "\n",
        "  def move_up(self, inserted_idx):\n",
        "    if inserted_idx <= 1:\n",
        "      return False\n",
        "    parent_idx = inserted_idx // 2\n",
        "    if self.heap_array[inserted_idx] > self.heap_array[parent_idx]:\n",
        "      return True\n",
        "    else:\n",
        "      return False\n",
        "    "
      ],
      "metadata": {
        "id": "rPLuGEzBuxWs"
      },
      "execution_count": null,
      "outputs": []
    },
    {
      "cell_type": "code",
      "source": [
        "heap = Heap(15)\n",
        "heap.insert(10)\n",
        "heap.insert(8)\n",
        "heap.insert(5)\n",
        "heap.insert(4)\n",
        "heap.insert(20)\n",
        "heap.heap_array\n"
      ],
      "metadata": {
        "colab": {
          "base_uri": "https://localhost:8080/"
        },
        "id": "P3RXF6_82sEA",
        "outputId": "d56bd41e-0010-4fec-b786-470485dc3fbd"
      },
      "execution_count": null,
      "outputs": [
        {
          "output_type": "execute_result",
          "data": {
            "text/plain": [
              "[None, 20, 10, 15, 5, 4, 8]"
            ]
          },
          "metadata": {},
          "execution_count": 17
        }
      ]
    },
    {
      "cell_type": "code",
      "source": [
        "heap.pop()"
      ],
      "metadata": {
        "colab": {
          "base_uri": "https://localhost:8080/"
        },
        "id": "IgxqJKb02uAk",
        "outputId": "db8a14db-d4bc-43a2-f147-2533e834b479"
      },
      "execution_count": null,
      "outputs": [
        {
          "output_type": "execute_result",
          "data": {
            "text/plain": [
              "20"
            ]
          },
          "metadata": {},
          "execution_count": 18
        }
      ]
    },
    {
      "cell_type": "code",
      "source": [
        "heap.heap_array"
      ],
      "metadata": {
        "id": "dmFrA2Gp3oEN",
        "outputId": "56c50cb0-2f28-4e3b-98d7-e55491cc8120",
        "colab": {
          "base_uri": "https://localhost:8080/"
        }
      },
      "execution_count": null,
      "outputs": [
        {
          "output_type": "execute_result",
          "data": {
            "text/plain": [
              "[None, 15, 10, 8, 5, 4]"
            ]
          },
          "metadata": {},
          "execution_count": 19
        }
      ]
    }
  ]
}