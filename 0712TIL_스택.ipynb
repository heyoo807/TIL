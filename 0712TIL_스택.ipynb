{
  "nbformat": 4,
  "nbformat_minor": 0,
  "metadata": {
    "colab": {
      "name": "0712TIL_스택.ipynb",
      "provenance": [],
      "authorship_tag": "ABX9TyP/PvyePVJUROv7wz+QBz83",
      "include_colab_link": true
    },
    "kernelspec": {
      "name": "python3",
      "display_name": "Python 3"
    },
    "language_info": {
      "name": "python"
    }
  },
  "cells": [
    {
      "cell_type": "markdown",
      "metadata": {
        "id": "view-in-github",
        "colab_type": "text"
      },
      "source": [
        "<a href=\"https://colab.research.google.com/github/heyoo807/TIL/blob/master/0712TIL_%EC%8A%A4%ED%83%9D.ipynb\" target=\"_parent\"><img src=\"https://colab.research.google.com/assets/colab-badge.svg\" alt=\"Open In Colab\"/></a>"
      ]
    },
    {
      "cell_type": "markdown",
      "source": [
        "## **1. 스택**\n",
        "* 데이터를 제한적으로 접근할 수 있는 구조\n",
        "* 한쪽 끝에서만 자료를 넣거나 뺄 수 있는 구조\n",
        "* 가장 나중에 쌓은 데이터를 가장 먼저 빼낼 수 있는 구조\n",
        "* LIFO(Last Input First Out)"
      ],
      "metadata": {
        "id": "p8EXqYVqCvRv"
      }
    },
    {
      "cell_type": "markdown",
      "source": [
        "### **1-1. 스택**\n",
        "* 스택은 LIFO 또는 filo 데이터 관리 방식\n",
        "* 스택의 활용 -> 컴퓨터 내부의 프로세스 구조의 함수 동작 방식\n",
        "* 기능\n",
        "  * push() : 데이터를 스택에 쌓기\n",
        "  * pop() : 데이터를 스택에서 꺼내기"
      ],
      "metadata": {
        "id": "j1Ae7O47DBcD"
      }
    },
    {
      "cell_type": "markdown",
      "source": [
        "### **1-2. 스택의 장단점**\n",
        "* 장점\n",
        "  * 구조가 단순해서 구현하기 쉬움\n",
        "  * 데이터 저장/ 읽기 속도가 빠름\n",
        "* 단점\n",
        "  * 데이터 최대 개수를 미리 정해야 함(파이썬의 경우 재귀함수는 1000번까지만 호출이 가능)\n",
        "  * 저장 공간의 낭비가 발생할 수 있음 ( 미리 최대개수만큼 저장공간을 확보해야 함)\n",
        "> 스택은 단순하고 빠른 성능을 위해 사용하므로 보통 배열 구조를 활용해서 구현하는 것이 일반적"
      ],
      "metadata": {
        "id": "ofl0tQwrDOrG"
      }
    },
    {
      "cell_type": "code",
      "source": [
        "# 파이썬 리스트 기능에서 제공하는 메소드로 스택 사용하기\n",
        "data_stack = list()\n",
        "print(data_stack)\n",
        "\n",
        "data_stack.append(2)\n",
        "data_stack.append(10)\n",
        "data_stack.append(5)\n",
        "print(data_stack)\n",
        "print(data_stack.pop())\n",
        "print(data_stack)"
      ],
      "metadata": {
        "colab": {
          "base_uri": "https://localhost:8080/"
        },
        "id": "6tD_KiLUDs-Z",
        "outputId": "972f0977-ad44-4ee0-b99e-b3929001f6a3"
      },
      "execution_count": null,
      "outputs": [
        {
          "output_type": "stream",
          "name": "stdout",
          "text": [
            "[]\n",
            "[2, 10, 5]\n",
            "5\n",
            "[2, 10]\n"
          ]
        }
      ]
    },
    {
      "cell_type": "markdown",
      "source": [
        "## **문제**\n",
        "리스트 변수로 스택을 다루는 pop, push 기능을 직접 구현해보자 ( 리스트의 pop, push 함수는 사용하지 않음 ) \n"
      ],
      "metadata": {
        "id": "QjSX7m0AEQHE"
      }
    },
    {
      "cell_type": "code",
      "source": [
        "stack_list = list()\n",
        "\n",
        "def push(data):\n",
        "  stack_list.append(data)\n",
        "def pop():\n",
        "  data = stack_list[-1]\n",
        "  del stack_list[-1]\n",
        "  return data"
      ],
      "metadata": {
        "id": "-s9S7yJqFNui"
      },
      "execution_count": null,
      "outputs": []
    },
    {
      "cell_type": "code",
      "source": [
        "for index in range(10):\n",
        "  push(index)"
      ],
      "metadata": {
        "id": "aj9jPcvFFeL_"
      },
      "execution_count": null,
      "outputs": []
    },
    {
      "cell_type": "code",
      "source": [
        "print(stack_list)"
      ],
      "metadata": {
        "id": "PF_Cf_zWFkq2",
        "outputId": "581c3097-1daf-4086-b6c6-9edb8228cc1f",
        "colab": {
          "base_uri": "https://localhost:8080/"
        }
      },
      "execution_count": null,
      "outputs": [
        {
          "output_type": "stream",
          "name": "stdout",
          "text": [
            "[0, 1, 2, 3, 4, 5, 6, 7, 8, 9]\n"
          ]
        }
      ]
    },
    {
      "cell_type": "code",
      "source": [
        "print(pop())"
      ],
      "metadata": {
        "id": "rtXyIviAFmzb",
        "outputId": "748f69d8-456d-4404-dd86-939fb0e42f97",
        "colab": {
          "base_uri": "https://localhost:8080/"
        }
      },
      "execution_count": null,
      "outputs": [
        {
          "output_type": "stream",
          "name": "stdout",
          "text": [
            "9\n"
          ]
        }
      ]
    },
    {
      "cell_type": "code",
      "source": [
        "print(stack_list)"
      ],
      "metadata": {
        "id": "27BbNk0FFn8c",
        "outputId": "0d026bfb-6b50-41a2-8048-f8a73482022e",
        "colab": {
          "base_uri": "https://localhost:8080/"
        }
      },
      "execution_count": null,
      "outputs": [
        {
          "output_type": "stream",
          "name": "stdout",
          "text": [
            "[0, 1, 2, 3, 4, 5, 6, 7, 8]\n"
          ]
        }
      ]
    }
  ]
}