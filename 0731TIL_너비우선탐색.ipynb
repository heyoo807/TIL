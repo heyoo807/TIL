{
  "nbformat": 4,
  "nbformat_minor": 0,
  "metadata": {
    "colab": {
      "name": "0731TIL_너비우선탐색.ipynb",
      "provenance": [],
      "collapsed_sections": [],
      "authorship_tag": "ABX9TyPr++w0HfI98ZwQkzGx01Wv",
      "include_colab_link": true
    },
    "kernelspec": {
      "name": "python3",
      "display_name": "Python 3"
    },
    "language_info": {
      "name": "python"
    }
  },
  "cells": [
    {
      "cell_type": "markdown",
      "metadata": {
        "id": "view-in-github",
        "colab_type": "text"
      },
      "source": [
        "<a href=\"https://colab.research.google.com/github/heyoo807/TIL/blob/master/0731TIL_%EB%84%88%EB%B9%84%EC%9A%B0%EC%84%A0%ED%83%90%EC%83%89.ipynb\" target=\"_parent\"><img src=\"https://colab.research.google.com/assets/colab-badge.svg\" alt=\"Open In Colab\"/></a>"
      ]
    },
    {
      "cell_type": "markdown",
      "source": [
        "## **1. 너비 우선탐색(Breadth-First-Search)**"
      ],
      "metadata": {
        "id": "wAhmgtWQg7ZF"
      }
    },
    {
      "cell_type": "markdown",
      "source": [
        "### **1-1. BFS란 ? ***"
      ],
      "metadata": {
        "id": "9VoaNHD6kYBw"
      }
    },
    {
      "cell_type": "markdown",
      "source": [
        "* 대표적인 그래프 탐색 알고리즘\n",
        "* 정점들과 같은 레벨에 있는 노드들(형제 노드들)을 먼저 탐색하는 방식\n",
        "* 한 단계씩 내려가면서 해당 노드와 같은 레벨에 있는 노드들(형제 노드들)을 먼저 순회함 "
      ],
      "metadata": {
        "id": "7rGdQvU4kazU"
      }
    },
    {
      "cell_type": "code",
      "source": [
        "graph = dict()\n",
        "graph['A'] = ['B, C']\n",
        "graph['B'] = ['A', 'D']\n",
        "graph['C'] = ['A', 'G', 'H', 'I']\n",
        "graph['D'] = ['B', 'E', 'F']\n",
        "graph['E'] = ['D']\n",
        "graph['F'] = ['D']\n",
        "graph['G'] = ['C']\n",
        "graph['H'] = ['C']\n",
        "graph['I'] = ['C','J']\n",
        "graph['J'] = graph['I']"
      ],
      "metadata": {
        "id": "4ct4fa3ikpkW"
      },
      "execution_count": 1,
      "outputs": []
    },
    {
      "cell_type": "code",
      "source": [
        "graph"
      ],
      "metadata": {
        "colab": {
          "base_uri": "https://localhost:8080/"
        },
        "id": "lY7SHXLSlX3R",
        "outputId": "96d64dbf-8b98-4eb5-e437-a43b65bcb83e"
      },
      "execution_count": 2,
      "outputs": [
        {
          "output_type": "execute_result",
          "data": {
            "text/plain": [
              "{'A': ['B, C'],\n",
              " 'B': ['A', 'D'],\n",
              " 'C': ['A', 'G', 'H', 'I'],\n",
              " 'D': ['B', 'E', 'F'],\n",
              " 'E': ['D'],\n",
              " 'F': ['D'],\n",
              " 'G': ['C'],\n",
              " 'H': ['C'],\n",
              " 'I': ['C', 'J'],\n",
              " 'J': ['C', 'J']}"
            ]
          },
          "metadata": {},
          "execution_count": 2
        }
      ]
    },
    {
      "cell_type": "markdown",
      "source": [
        "## **2. BFS 알고리즘 구현 ***\n",
        "* 큐 자료구조를 활용\n",
        "* need_visit 큐, visited 큐 두 개의 큐를 생성"
      ],
      "metadata": {
        "id": "dkH-aWqTlg2q"
      }
    },
    {
      "cell_type": "code",
      "source": [
        "data = [1, 2, 3, 4]\n",
        "data.pop()\n",
        "print(data) #[1,2,3]\n",
        "data.pop(0) \n",
        "print(data) #[2,3]"
      ],
      "metadata": {
        "colab": {
          "base_uri": "https://localhost:8080/"
        },
        "id": "cM014V7mlobN",
        "outputId": "9a8c469d-c059-4998-8b8f-316d58ee38b7"
      },
      "execution_count": 4,
      "outputs": [
        {
          "output_type": "stream",
          "name": "stdout",
          "text": [
            "[1, 2, 3]\n",
            "[2, 3]\n"
          ]
        }
      ]
    },
    {
      "cell_type": "code",
      "source": [
        "data =[1,2,3,4]\n",
        "data.extend([4,5])\n",
        "print(data) #[1,2,3,4,4,5]"
      ],
      "metadata": {
        "colab": {
          "base_uri": "https://localhost:8080/"
        },
        "id": "4IPGRe4Jlw9j",
        "outputId": "783d059d-6c91-4645-e3fd-56ed223e6069"
      },
      "execution_count": 5,
      "outputs": [
        {
          "output_type": "stream",
          "name": "stdout",
          "text": [
            "[1, 2, 3, 4, 4, 5]\n"
          ]
        }
      ]
    },
    {
      "cell_type": "code",
      "source": [
        "def bfs(graph, start_node):\n",
        "  visited, need_visit = list(), list()\n",
        "  \n",
        "  need_visit.append(start_node)\n",
        "  while need_visit:\n",
        "    node = need_visit.pop(0)\n",
        "    if node not in visited:\n",
        "      visited.append(node)\n",
        "      need_visit.extend(graph)\n",
        "  return visited"
      ],
      "metadata": {
        "id": "29Wp67bRl38F"
      },
      "execution_count": 6,
      "outputs": []
    },
    {
      "cell_type": "code",
      "source": [
        "bfs(graph, 'A')"
      ],
      "metadata": {
        "colab": {
          "base_uri": "https://localhost:8080/"
        },
        "id": "XHrH8lvrmZ3d",
        "outputId": "88f83559-09b7-4ae2-bdbc-d9af240b93c9"
      },
      "execution_count": 10,
      "outputs": [
        {
          "output_type": "execute_result",
          "data": {
            "text/plain": [
              "['A', 'B', 'C', 'D', 'E', 'F', 'G', 'H', 'I', 'J']"
            ]
          },
          "metadata": {},
          "execution_count": 10
        }
      ]
    }
  ]
}