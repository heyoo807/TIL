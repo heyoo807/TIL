{
  "nbformat": 4,
  "nbformat_minor": 0,
  "metadata": {
    "colab": {
      "name": "0714TIL_재귀호출.ipynb",
      "provenance": [],
      "authorship_tag": "ABX9TyM4wOJYwl/s5FUGNaqcVzfI",
      "include_colab_link": true
    },
    "kernelspec": {
      "name": "python3",
      "display_name": "Python 3"
    },
    "language_info": {
      "name": "python"
    }
  },
  "cells": [
    {
      "cell_type": "markdown",
      "metadata": {
        "id": "view-in-github",
        "colab_type": "text"
      },
      "source": [
        "<a href=\"https://colab.research.google.com/github/heyoo807/TIL/blob/master/0714TIL_%EC%9E%AC%EA%B7%80%ED%98%B8%EC%B6%9C.ipynb\" target=\"_parent\"><img src=\"https://colab.research.google.com/assets/colab-badge.svg\" alt=\"Open In Colab\"/></a>"
      ]
    },
    {
      "cell_type": "markdown",
      "source": [
        "## **1. 재귀호출(recursive call)**\n",
        "* 함수 안에서 동일한 함수를 호출하는 방법\n",
        "* 여러 알고리즘, 고급 정렬 알고리즘 작성시 자주 사용됨"
      ],
      "metadata": {
        "id": "kowT_fq9OqV4"
      }
    },
    {
      "cell_type": "markdown",
      "source": [
        "### **1-1. 재귀 호출 분석**\n",
        "* 2! = 2 * 1\n",
        "* 3! = 3 * 2 * 1\n",
        "* 4! = 4 * 3 * 2 * 1"
      ],
      "metadata": {
        "id": "O1jeq-upPAYR"
      }
    },
    {
      "cell_type": "markdown",
      "source": [
        "### **1-2. 규칙**\n",
        "n! = n * (n-1)!\n",
        "1. 함수로 만듬\n",
        "2. 함수(n)은 n>1이면 return n * 함수(n-1)"
      ],
      "metadata": {
        "id": "bBd8TnJ1PIGK"
      }
    },
    {
      "cell_type": "markdown",
      "source": [
        "### **1-3. 검증**\n",
        "1. 2! \n",
        "  * 함수(2)이면 2 > 1이므로 2 * 함수(1)\n",
        "  * 함수(1)은 1이므로 return 2 * 1, 답은 2\n",
        "2. 3!\n",
        "  * 함수(3)은 3 > 1이므로 3 * 함수(2)\n",
        "  * 함수(2)는 1번에 의해 2이므로 return 2* 1 = 2\n",
        "  * 3 * 함수(2) = 3 * 2 * 1, 답은 6\n",
        "3. 4!\n",
        "  * 함수(4)은 4 > 1이므로 4 * 함수(3)\n",
        "  * 함수(3)은 1번에 의해 6이므로 return 3 * 2 * 1 = 6\n",
        "  * 4 * 함수(3) = 4 * 3 * 2 * 1 , 답은 24"
      ],
      "metadata": {
        "id": "LKV_bPLyPV8k"
      }
    },
    {
      "cell_type": "code",
      "source": [
        "def factorial(num):\n",
        "  if num > 1:\n",
        "    return num * factorial(num-1)\n",
        "  else:\n",
        "    return num"
      ],
      "metadata": {
        "id": "pduydVoXP-zS"
      },
      "execution_count": 1,
      "outputs": []
    },
    {
      "cell_type": "code",
      "source": [
        "for num in range(5):\n",
        "  print(factorial(num))"
      ],
      "metadata": {
        "colab": {
          "base_uri": "https://localhost:8080/"
        },
        "id": "I9d_Rn0sQGCt",
        "outputId": "65cdbdb4-d33e-4da0-88fa-d5aa2cb3d29e"
      },
      "execution_count": 2,
      "outputs": [
        {
          "output_type": "stream",
          "name": "stdout",
          "text": [
            "0\n",
            "1\n",
            "2\n",
            "6\n",
            "24\n"
          ]
        }
      ]
    },
    {
      "cell_type": "markdown",
      "source": [
        "### **1-4. 재귀호출의 시간복잡도**\n",
        "* factorial(n)은 n-1번의 factorial()함수를 호출하여 곱셈을 함\n",
        "* factorial()함수를 호출할 때마다 지역변수 n이 생성됨\n",
        "* 시간복잡도는 O(n-1)이므로 O(n)이다"
      ],
      "metadata": {
        "id": "re1JOvOJQLNu"
      }
    },
    {
      "cell_type": "markdown",
      "source": [
        "### **1-5. 재귀호출의 일반적인 형태**\n",
        "형태1.\n",
        "```\n",
        "def function(입력값):\n",
        "  if 입력값 > 특정값:\n",
        "      return 입력 * function(입력값-1)\n",
        "  else:\n",
        "      return 일정값, 입력값, 또는 특정값\n",
        "```\n",
        "형태2.\n",
        "```\n",
        "def function(입력값):\n",
        "  if 입력값 <= 특정값:\n",
        "    return 일정값, 입력값, 또는 특정값\n",
        "  function(입력보다 작은 값)\n",
        "  return 결과값\n",
        "\n",
        "```"
      ],
      "metadata": {
        "id": "BKZy4BXEQcS-"
      }
    },
    {
      "cell_type": "code",
      "source": [
        "def factorial(num):\n",
        "  if num <= 1:\n",
        "    return num\n",
        "  return num * factorial(num-1)"
      ],
      "metadata": {
        "id": "HDgB7MizRD8R"
      },
      "execution_count": 3,
      "outputs": []
    },
    {
      "cell_type": "code",
      "source": [
        "for num in range(10):\n",
        "  print(factorial(num))"
      ],
      "metadata": {
        "colab": {
          "base_uri": "https://localhost:8080/"
        },
        "id": "CIPC7nNmQbb8",
        "outputId": "a5d625f4-1dcd-4f6e-e665-4b6064131c97"
      },
      "execution_count": 5,
      "outputs": [
        {
          "output_type": "stream",
          "name": "stdout",
          "text": [
            "0\n",
            "1\n",
            "2\n",
            "6\n",
            "24\n",
            "120\n",
            "720\n",
            "5040\n",
            "40320\n",
            "362880\n"
          ]
        }
      ]
    },
    {
      "cell_type": "markdown",
      "source": [
        "### **1-6. 재귀 호출의 전형적인 예**\n",
        "* 함수는 내부적으로 스택처럼 관리\n",
        "* https://pythontutor.com/visualize.html#mode=display\n",
        "> 파이썬에서는 재귀 함수 깊이(한번에 호출되는) 1000회 이하로 되어야 함"
      ],
      "metadata": {
        "id": "T6gtTBI1RVJs"
      }
    },
    {
      "cell_type": "markdown",
      "source": [
        "### **문제**\n",
        "다음함수를 재귀 함수를 활용해서 1부터 num까지의 곱이 출력되도록 만들어보자\n",
        "```\n",
        "def multiple(data):\n",
        "  if data <= 1:\n",
        "      return data\n",
        "  return ...\n",
        "\n",
        "multiple(10)\n",
        "```"
      ],
      "metadata": {
        "id": "HGbgpHnUSFjr"
      }
    },
    {
      "cell_type": "code",
      "source": [
        "def multiple(data):\n",
        "  if data <= 1:\n",
        "    return data\n",
        "  return data * multiple(data-1)"
      ],
      "metadata": {
        "id": "O8uA7RSdSbNm"
      },
      "execution_count": 9,
      "outputs": []
    },
    {
      "cell_type": "code",
      "source": [
        "multiple(10)"
      ],
      "metadata": {
        "colab": {
          "base_uri": "https://localhost:8080/"
        },
        "id": "10JaZO0USixx",
        "outputId": "05d33951-42f9-418f-d09e-73d9c26037c6"
      },
      "execution_count": 10,
      "outputs": [
        {
          "output_type": "execute_result",
          "data": {
            "text/plain": [
              "3628800"
            ]
          },
          "metadata": {},
          "execution_count": 10
        }
      ]
    },
    {
      "cell_type": "code",
      "source": [
        "def multiple(data):\n",
        "  return_data = 1\n",
        "  for index in range(1, num+1):\n",
        "    return_data = return_data * index\n",
        "  return return_data"
      ],
      "metadata": {
        "id": "Vn3bTQGrSxPJ"
      },
      "execution_count": 11,
      "outputs": []
    },
    {
      "cell_type": "code",
      "source": [
        "multiple(10)"
      ],
      "metadata": {
        "colab": {
          "base_uri": "https://localhost:8080/"
        },
        "id": "DpAuV1IMTCYN",
        "outputId": "1b7dcd5f-a508-4c3c-9c66-2bec56ab4234"
      },
      "execution_count": 12,
      "outputs": [
        {
          "output_type": "execute_result",
          "data": {
            "text/plain": [
              "362880"
            ]
          },
          "metadata": {},
          "execution_count": 12
        }
      ]
    },
    {
      "cell_type": "markdown",
      "source": [
        "### **문제**\n",
        "회문은 \"순서를 거꾸로 읽어도 제대로 읽은 것과 같은 단어와 문장을 의미\"합니다\n",
        "회문을 판별할 수 있는 함수를 리스트 슬라이싱을 활용하여 만들어보자\n",
        "  *  재귀함수를 사용\n",
        "  *  회문이면 True, 아니면 False를 반환"
      ],
      "metadata": {
        "id": "pIrkvAvOTENZ"
      }
    },
    {
      "cell_type": "code",
      "source": [
        "string = \"apple\"\n",
        "print(len(string)) #5"
      ],
      "metadata": {
        "colab": {
          "base_uri": "https://localhost:8080/"
        },
        "id": "_-Dp0ZcHU1df",
        "outputId": "b5b2e472-d916-46f6-a588-468c689a7606"
      },
      "execution_count": 13,
      "outputs": [
        {
          "output_type": "stream",
          "name": "stdout",
          "text": [
            "5\n"
          ]
        }
      ]
    },
    {
      "cell_type": "code",
      "source": [
        "def palindrome(string):\n",
        "  if len(string) <= 1: # 문자열의 길이가 1과 같거나 그보다 작다면\n",
        "    return True\n",
        "  if string[0] == string[-1]:\n",
        "    return palindrome(string[1:-1]) # 문자열의 1번째글자부터 마지막 이전 글자까지 슬라이싱 \n",
        "  else: # 문자열의 첫글자와 마지막 글자가 같지 않다면\n",
        "    return False"
      ],
      "metadata": {
        "id": "50YqBY2YehIa"
      },
      "execution_count": 27,
      "outputs": []
    },
    {
      "cell_type": "code",
      "source": [
        "print(palindrome('apple')) # False\n",
        "print(palindrome('system')) # False\n",
        "print(palindrome('oddo')) # True\n",
        "print(palindrome('wow')) # True"
      ],
      "metadata": {
        "colab": {
          "base_uri": "https://localhost:8080/"
        },
        "id": "yH_0ck8EfLuM",
        "outputId": "7132c687-4fa7-4e71-e8cf-426c8cc5b07e"
      },
      "execution_count": 28,
      "outputs": [
        {
          "output_type": "stream",
          "name": "stdout",
          "text": [
            "False\n",
            "False\n",
            "True\n",
            "True\n"
          ]
        }
      ]
    },
    {
      "cell_type": "code",
      "source": [
        "def palindrome(string):\n",
        "  for i in range(len(string)):\n",
        "    if string[i] == string[len(string)-i-1]:\n",
        "      if i == int(len(string) / 2):\n",
        "        return True\n",
        "      continue\n",
        "    return False"
      ],
      "metadata": {
        "id": "_nPhOtM9Th9P"
      },
      "execution_count": 24,
      "outputs": []
    },
    {
      "cell_type": "code",
      "source": [
        "print(palindrome('apple')) # False\n",
        "print(palindrome('system')) # False\n",
        "print(palindrome('oddo')) # True\n",
        "print(palindrome('wow')) # True"
      ],
      "metadata": {
        "colab": {
          "base_uri": "https://localhost:8080/"
        },
        "id": "1pRKKyYSWgCb",
        "outputId": "55587718-5faa-42f9-8ea9-b58a1fe9745a"
      },
      "execution_count": 26,
      "outputs": [
        {
          "output_type": "stream",
          "name": "stdout",
          "text": [
            "False\n",
            "False\n",
            "True\n",
            "True\n"
          ]
        }
      ]
    },
    {
      "cell_type": "markdown",
      "source": [
        "### **문제.**\n",
        "정수 n을 입력받아 아래와 같이 처리하는 프로그램을 만들어보자\n",
        "1. n이 홀수면 3 * n + 1을 함\n",
        "2. n이 짝수면 n을 2로 나눔\n",
        "3. 이렇게 계속 진행해서 n이 결국 1이 될때까지 1과 2를 반복하며 실행\n"
      ],
      "metadata": {
        "id": "nREJ9P-rfSNX"
      }
    },
    {
      "cell_type": "code",
      "source": [
        "def func(n):\n",
        "  print(n)\n",
        "  if n == 1:\n",
        "    return n\n",
        "  if n % 2 == 1:\n",
        "    n = 3 * n + 1\n",
        "  elif n % 2 == 0:\n",
        "    n = n // 2\n",
        "  return func(n)\n",
        "\n"
      ],
      "metadata": {
        "id": "WHF2sRLshJMJ"
      },
      "execution_count": 43,
      "outputs": []
    },
    {
      "cell_type": "code",
      "source": [
        "func(3)"
      ],
      "metadata": {
        "colab": {
          "base_uri": "https://localhost:8080/"
        },
        "id": "3zfj6v7shSaZ",
        "outputId": "5bb08fab-a0d3-42f9-aa61-a27afd47bff0"
      },
      "execution_count": 44,
      "outputs": [
        {
          "output_type": "stream",
          "name": "stdout",
          "text": [
            "3\n",
            "10\n",
            "5\n",
            "16\n",
            "8\n",
            "4\n",
            "2\n",
            "1\n"
          ]
        },
        {
          "output_type": "execute_result",
          "data": {
            "text/plain": [
              "1"
            ]
          },
          "metadata": {},
          "execution_count": 44
        }
      ]
    },
    {
      "cell_type": "code",
      "source": [
        "def func(n):\n",
        "  print(n)\n",
        "  if n == 1:\n",
        "    return n\n",
        "  if n % 2 == 1:\n",
        "    return (func((3 * n) + 1))\n",
        "  else:\n",
        "    return (func(int(n / 2)))"
      ],
      "metadata": {
        "id": "MRpmMIL4jCR5"
      },
      "execution_count": 49,
      "outputs": []
    },
    {
      "cell_type": "code",
      "source": [
        "func(3)"
      ],
      "metadata": {
        "colab": {
          "base_uri": "https://localhost:8080/"
        },
        "id": "X-fFL06rjZme",
        "outputId": "3d14eeef-31a0-4ebf-9f3c-7dcfd1998b66"
      },
      "execution_count": 50,
      "outputs": [
        {
          "output_type": "stream",
          "name": "stdout",
          "text": [
            "3\n",
            "10\n",
            "5\n",
            "16\n",
            "8\n",
            "4\n",
            "2\n",
            "1\n"
          ]
        },
        {
          "output_type": "execute_result",
          "data": {
            "text/plain": [
              "1"
            ]
          },
          "metadata": {},
          "execution_count": 50
        }
      ]
    }
  ]
}