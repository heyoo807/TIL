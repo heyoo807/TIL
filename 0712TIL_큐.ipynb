{
  "nbformat": 4,
  "nbformat_minor": 0,
  "metadata": {
    "colab": {
      "name": "0712TIL_큐.ipynb",
      "provenance": [],
      "collapsed_sections": [],
      "authorship_tag": "ABX9TyOP+BwawWhmQ73bkf4YWscc",
      "include_colab_link": true
    },
    "kernelspec": {
      "name": "python3",
      "display_name": "Python 3"
    },
    "language_info": {
      "name": "python"
    }
  },
  "cells": [
    {
      "cell_type": "markdown",
      "metadata": {
        "id": "view-in-github",
        "colab_type": "text"
      },
      "source": [
        "<a href=\"https://colab.research.google.com/github/heyoo807/TIL/blob/master/0712TIL_%ED%81%90.ipynb\" target=\"_parent\"><img src=\"https://colab.research.google.com/assets/colab-badge.svg\" alt=\"Open In Colab\"/></a>"
      ]
    },
    {
      "cell_type": "markdown",
      "source": [
        "## **1. 큐의 구조**\n",
        "* 가장 먼저 넣은 데이터를 가장 먼저 꺼낼 수 있는 구조\n",
        "* 줄을 서는 행위와 유사\n",
        "* FIFO(First-In, First-out)"
      ],
      "metadata": {
        "id": "0E_G2wRi8051"
      }
    },
    {
      "cell_type": "markdown",
      "source": [
        "### **1-1. 큐의 용어**\n",
        "* Enqueue : 큐에 데이터를 넣는 기능\n",
        "* Dequeue : 큐에 데이터를 꺼내는 기능"
      ],
      "metadata": {
        "id": "Fm5-xKNd9QBz"
      }
    },
    {
      "cell_type": "markdown",
      "source": [
        "### **1-2. 큐의 사용**\n",
        "* 멀티태스킹을 위한 프로세스 스케쥴링 방식을 구현(운영체제)\n",
        "* 푸시메세지"
      ],
      "metadata": {
        "id": "1ZmuZ_ir9XJu"
      }
    },
    {
      "cell_type": "markdown",
      "source": [
        "### **1-3. 파이썬 queue 라이브러리를 활용하여 queue 자료구조 사용**\n",
        "* Queue() : 가장 일반적인 큐 자료구조를 생성\n",
        "* LifoQueue() : 나중에 입력된 데이터가 먼저 출력되는 구조의 큐 자료구조를 생성( 스택 구조와 비슷 ) \n",
        "* PriorityQueue() : 데이터마다 우선순위를 넣어서 우선순위가 높은 순으로 데이터를 출력\n",
        "* 프로그램을 작성할 때 프로그램에 따라 적합한 자료구조를 사용"
      ],
      "metadata": {
        "id": "juVseHjV9eEg"
      }
    },
    {
      "cell_type": "code",
      "source": [
        "# queue로 큐 만들기 \n",
        "import queue\n",
        "\n",
        "data_queue = queue.Queue()\n",
        "data_queue.put('Hello')\n",
        "print(data_queue) # <queue.Queue object at 0x7f304e240990>\n",
        "print(data_queue.qsize()) # 1 \n",
        "print(data_queue.get()) # Dequeue # Hello\n",
        "print(data_queue.qsize()) # 0"
      ],
      "metadata": {
        "colab": {
          "base_uri": "https://localhost:8080/"
        },
        "id": "Snrkcwmb-18q",
        "outputId": "fe33087d-b165-4281-b35a-02349645e7dc"
      },
      "execution_count": null,
      "outputs": [
        {
          "output_type": "stream",
          "name": "stdout",
          "text": [
            "<queue.Queue object at 0x7f3049f41fd0>\n",
            "1\n",
            "Hello\n",
            "0\n"
          ]
        }
      ]
    },
    {
      "cell_type": "code",
      "source": [
        "data_queue.put(10)\n",
        "data_queue.put(True)\n",
        "print(data_queue.qsize()) # 2\n",
        "print(data_queue.get()) # 10"
      ],
      "metadata": {
        "colab": {
          "base_uri": "https://localhost:8080/"
        },
        "id": "MtrP7K2D_RWO",
        "outputId": "6c2500f0-bdcf-4063-8060-bb9c91bc7387"
      },
      "execution_count": null,
      "outputs": [
        {
          "output_type": "stream",
          "name": "stdout",
          "text": [
            "2\n",
            "10\n"
          ]
        }
      ]
    },
    {
      "cell_type": "code",
      "source": [
        "data_queue.put(20)\n",
        "\n",
        "for i in range(data_queue.qsize()):\n",
        "  item = data_queue.get()\n",
        "  print(item) # True # 20"
      ],
      "metadata": {
        "colab": {
          "base_uri": "https://localhost:8080/"
        },
        "id": "U4lrP48I_bY7",
        "outputId": "b00c7d53-acfd-439c-f540-38cc184d5d3d"
      },
      "execution_count": null,
      "outputs": [
        {
          "output_type": "stream",
          "name": "stdout",
          "text": [
            "True\n",
            "20\n"
          ]
        }
      ]
    },
    {
      "cell_type": "code",
      "source": [
        "# LifoQueue()로 큐 만들기\n",
        "data_queue = queue.LifoQueue()\n",
        "data_queue.put('Hello')\n",
        "data_queue.put(10)\n",
        "data_queue.put(True)\n",
        "print(data_queue.qsize()) # 3\n",
        "print(data_queue.get()) # True"
      ],
      "metadata": {
        "colab": {
          "base_uri": "https://localhost:8080/"
        },
        "id": "bDZklzgu_p_7",
        "outputId": "1466c603-630d-4a58-9564-ccea679f1ab8"
      },
      "execution_count": null,
      "outputs": [
        {
          "output_type": "stream",
          "name": "stdout",
          "text": [
            "3\n",
            "True\n"
          ]
        }
      ]
    },
    {
      "cell_type": "code",
      "source": [
        "# PriorityQueue()로 큐 만들기\n",
        "data_queue = queue.PriorityQueue()\n",
        "data_queue.put((10, '김사과'))\n",
        "data_queue.put((5, '반하나'))\n",
        "data_queue.put((7, '오렌지'))\n",
        "data_queue.put((8, '이메론'))\n",
        "data_queue.put((2, '박체리'))\n",
        "print(data_queue.qsize()) # 5\n",
        "print(data_queue.get()) # (2, 박체리) # 키값이 작을수록 우선순위가 높음\n",
        "print(data_queue.get()) # (5, 반하나)"
      ],
      "metadata": {
        "colab": {
          "base_uri": "https://localhost:8080/"
        },
        "id": "TzO2Q3w2_9Bi",
        "outputId": "1dd6d254-63fb-4594-eb83-f61a8e4e53cf"
      },
      "execution_count": null,
      "outputs": [
        {
          "output_type": "stream",
          "name": "stdout",
          "text": [
            "5\n",
            "(2, '박체리')\n",
            "(5, '반하나')\n"
          ]
        }
      ]
    },
    {
      "cell_type": "markdown",
      "source": [
        ""
      ],
      "metadata": {
        "id": "SbXUqbFwGaOu"
      }
    }
  ]
}