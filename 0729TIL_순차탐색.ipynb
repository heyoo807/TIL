{
  "nbformat": 4,
  "nbformat_minor": 0,
  "metadata": {
    "colab": {
      "name": "0729TIL_순차탐색.ipynb",
      "provenance": [],
      "collapsed_sections": [],
      "authorship_tag": "ABX9TyPTRPMYjqsZYnYwcRdiJJdM",
      "include_colab_link": true
    },
    "kernelspec": {
      "name": "python3",
      "display_name": "Python 3"
    },
    "language_info": {
      "name": "python"
    }
  },
  "cells": [
    {
      "cell_type": "markdown",
      "metadata": {
        "id": "view-in-github",
        "colab_type": "text"
      },
      "source": [
        "<a href=\"https://colab.research.google.com/github/heyoo807/TIL/blob/master/0729TIL_%EC%88%9C%EC%B0%A8%ED%83%90%EC%83%89.ipynb\" target=\"_parent\"><img src=\"https://colab.research.google.com/assets/colab-badge.svg\" alt=\"Open In Colab\"/></a>"
      ]
    },
    {
      "cell_type": "markdown",
      "source": [
        "## **1. 순차 탐색(Sequential Search)**\n",
        "* 탐색은 여러 데이터 중에서 원하는 데이터를 찾아내는 것을 의미\n",
        "* 데이터가 담겨있는 리스트를 앞에서부터 하나씩 비교해서 원하는 데이터를 찾는 방법"
      ],
      "metadata": {
        "id": "aGQpmoJEPJm7"
      }
    },
    {
      "cell_type": "code",
      "source": [
        "from random import *\n",
        "\n",
        "rand_data_list = list()\n",
        "for num in range(10):\n",
        "  rand_data_list.append(randint(1, 100))\n",
        "print(rand_data_list)"
      ],
      "metadata": {
        "colab": {
          "base_uri": "https://localhost:8080/"
        },
        "id": "9i_mKdbaPiw2",
        "outputId": "ff59e042-9704-4e46-c8ca-86b4b872f0c6"
      },
      "execution_count": 1,
      "outputs": [
        {
          "output_type": "stream",
          "name": "stdout",
          "text": [
            "[50, 65, 96, 66, 29, 86, 59, 9, 55, 86]\n"
          ]
        }
      ]
    },
    {
      "cell_type": "code",
      "source": [
        "def sequencial(data_list, search_data):\n",
        "  for index in range(len(data_list)):\n",
        "    if data_list[index] == search_data:\n",
        "      return index\n",
        "  return -1"
      ],
      "metadata": {
        "id": "0ZmPmrfdQG3p"
      },
      "execution_count": 2,
      "outputs": []
    },
    {
      "cell_type": "code",
      "source": [
        "sequencial(rand_data_list, 9)"
      ],
      "metadata": {
        "colab": {
          "base_uri": "https://localhost:8080/"
        },
        "id": "QVq6DdeRQQxf",
        "outputId": "b75cff45-7514-414c-da2a-41532c90d1c8"
      },
      "execution_count": 3,
      "outputs": [
        {
          "output_type": "execute_result",
          "data": {
            "text/plain": [
              "7"
            ]
          },
          "metadata": {},
          "execution_count": 3
        }
      ]
    },
    {
      "cell_type": "code",
      "source": [
        "sequencial(rand_data_list, 100)"
      ],
      "metadata": {
        "colab": {
          "base_uri": "https://localhost:8080/"
        },
        "id": "S9CbpUUfQYLq",
        "outputId": "7ea05256-5f42-48f0-df0f-595872986812"
      },
      "execution_count": 4,
      "outputs": [
        {
          "output_type": "execute_result",
          "data": {
            "text/plain": [
              "-1"
            ]
          },
          "metadata": {},
          "execution_count": 4
        }
      ]
    },
    {
      "cell_type": "markdown",
      "source": [
        "## **2. 알고리즘 분석 ***\n",
        "* 최악의 경우 리스트 길이가 n일 때 n번 비교해야 함\n",
        "* 시간복잡도가 O(n)"
      ],
      "metadata": {
        "id": "4OSnAoixQbYF"
      }
    }
  ]
}