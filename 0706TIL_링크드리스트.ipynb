{
  "nbformat": 4,
  "nbformat_minor": 0,
  "metadata": {
    "colab": {
      "name": "0706TIL_링크드리스트.ipynb",
      "provenance": [],
      "collapsed_sections": [],
      "authorship_tag": "ABX9TyMr/78LI+KnQmi1NIBRK1NX",
      "include_colab_link": true
    },
    "kernelspec": {
      "name": "python3",
      "display_name": "Python 3"
    },
    "language_info": {
      "name": "python"
    }
  },
  "cells": [
    {
      "cell_type": "markdown",
      "metadata": {
        "id": "view-in-github",
        "colab_type": "text"
      },
      "source": [
        "<a href=\"https://colab.research.google.com/github/heyoo807/TIL/blob/master/0706TIL_%EB%A7%81%ED%81%AC%EB%93%9C%EB%A6%AC%EC%8A%A4%ED%8A%B8.ipynb\" target=\"_parent\"><img src=\"https://colab.research.google.com/assets/colab-badge.svg\" alt=\"Open In Colab\"/></a>"
      ]
    },
    {
      "cell_type": "markdown",
      "source": [
        "1. 링크드리스트(LinkedList)\n",
        "* 떨어진 곳에 존재하는 데이터를 화살표로 연결해서 관리하는 구조\n",
        "* ✔️ C언어에서는 중요한 자료구조인데, 파이썬에서는 리스트 타입이 링크드 리스트 역할도 모두 지원한다\n",
        "* ✔️ 데이터의 삽입과 삭제가 매우 빠름"
      ],
      "metadata": {
        "id": "tZRkPk92F1tc"
      }
    },
    {
      "cell_type": "markdown",
      "source": [
        "### **1-1. 링크드리스트 용어**\n",
        "* 노드(node) : 데이터 저장 단위(데이터와 포인터로 구성)\n",
        "* 포인터(pointer) : 각 노드 안에서 다음이나 이전의 노드와의 연결정보를 가지고 있는 공간 "
      ],
      "metadata": {
        "id": "3-UX11hCGc8R"
      }
    },
    {
      "cell_type": "code",
      "source": [
        "# 링크드 리스트 예\n",
        "# 파이썬에서는 링크드 리스트를 구현할 떄 클래스를 주로 활용\n",
        "class Node:\n",
        "  def __init__(self, data):\n",
        "    self.data = data\n",
        "    self.next = None"
      ],
      "metadata": {
        "id": "TE7rvwQBG4uH"
      },
      "execution_count": null,
      "outputs": []
    },
    {
      "cell_type": "code",
      "source": [
        "# Node 객체와 Node 객체를 연결하기 ( 포인터 활용)\n",
        "node1 = Node(1)\n",
        "node2 = Node(2)\n",
        "print(node1) # <__main__.Node object at 0x7fc04fb6ff50>\n",
        "print(node2) # <__main__.Node object at 0x7fc04fb6fdd0>\n",
        "node1.next = node2 # node1의 포인터에는 node2의 주소값이 담김 \n",
        "head = node1 # node1객체가 링크드리스트의 헤드 "
      ],
      "metadata": {
        "colab": {
          "base_uri": "https://localhost:8080/"
        },
        "id": "acG5aqO2HQBz",
        "outputId": "1a0daf90-a337-4565-b37f-0666f8c7c3be"
      },
      "execution_count": null,
      "outputs": [
        {
          "output_type": "stream",
          "name": "stdout",
          "text": [
            "<__main__.Node object at 0x7fc04faec710>\n",
            "<__main__.Node object at 0x7fc04faec850>\n"
          ]
        }
      ]
    },
    {
      "cell_type": "markdown",
      "source": [
        "### **1-2. 링크드리스트로 데이터 추가하기 ***"
      ],
      "metadata": {
        "id": "4WQiLEljHbzq"
      }
    },
    {
      "cell_type": "code",
      "source": [
        "class Node:\n",
        "  def __init__(self, data):\n",
        "    self.data = data\n",
        "    self.next = None\n",
        "  def add(self, data):\n",
        "    node = head\n",
        "    while node.next:\n",
        "       node = node.next\n",
        "    node.next = Node(data)"
      ],
      "metadata": {
        "id": "-4eOSRKVIFvK"
      },
      "execution_count": null,
      "outputs": []
    },
    {
      "cell_type": "code",
      "source": [
        "node1 = Node(1) # next = None\n",
        "head = node1\n",
        "for index in range(2, 11):\n",
        "  node1.add(index) # node1.add(2) -> 현재 노드는 헤드노드 , next에 노드가 없음 , while문을 돌지 않고 \n",
        "  # head노드의 next에 add한 데이터로 구성된 노드객체의 주소값이 들어감\n",
        "  # node1.add(3) -> 현재 노드는 헤드 노드, next에 노드가 있음, while문에 들어가서 헤드노드의 next안에 있는 \n",
        "  # 노드객체가 현재 노드가 되고 그 현재 노드의 next에는 add한 데이터3으로 구성된 노드 객체의 주소값이 들어감"
      ],
      "metadata": {
        "id": "pLVal_IMIy-y"
      },
      "execution_count": null,
      "outputs": []
    },
    {
      "cell_type": "markdown",
      "source": [
        "### **1-3. 링크드리스트 데이터 출력하기 ***"
      ],
      "metadata": {
        "id": "GFpLhym2KZko"
      }
    },
    {
      "cell_type": "code",
      "source": [
        "# node1 = Node(1)\n",
        "# head = node1\n",
        "node = head \n",
        "while(node.next):\n",
        "  print(node.data)\n",
        "  node = node.next\n",
        "print(node.data)"
      ],
      "metadata": {
        "colab": {
          "base_uri": "https://localhost:8080/"
        },
        "id": "DrvgPZ1bKdir",
        "outputId": "56883b3b-864b-48a4-c4ab-18d8bf6255eb"
      },
      "execution_count": null,
      "outputs": [
        {
          "output_type": "stream",
          "name": "stdout",
          "text": [
            "1\n",
            "2\n",
            "3\n",
            "4\n",
            "5\n",
            "6\n",
            "7\n",
            "8\n",
            "9\n",
            "10\n"
          ]
        }
      ]
    },
    {
      "cell_type": "code",
      "source": [
        "#1.5데이터를 삽입(단 1과 2 사이에 저장)\n",
        "node2 = Node(1.5)\n",
        "print(node2)"
      ],
      "metadata": {
        "colab": {
          "base_uri": "https://localhost:8080/"
        },
        "id": "1gmqSD3wLYEk",
        "outputId": "43b96503-1f07-489d-db30-b2899275977b"
      },
      "execution_count": null,
      "outputs": [
        {
          "output_type": "stream",
          "name": "stdout",
          "text": [
            "<__main__.Node object at 0x7fc048b49e90>\n"
          ]
        }
      ]
    },
    {
      "cell_type": "code",
      "source": [
        "node = head\n",
        "search = False\n",
        "\n",
        "while not search: # not False : True, not True : False, 삽입할 데이터가 위치할 곳 바로 이전의 데이터를 \n",
        "# 찾으면 search에 True를 할당해서 while문을 빠져나온다\n",
        "  if node.data == 1:\n",
        "    search = True\n",
        "  else:\n",
        "    node = node.next # 삽입할 데이터가 위치할 곳 바로 이전의 데이터를 찾지 못하면 현재 노드의 next에 담긴\n",
        "    # 노드객체로 현재노드를 계속 바꿔버림 \n",
        "  # 삽입할 데이터가 위치할 곳 바로 이전의 데이터의 next에 는 삽입할 데이터의 주소가 들어가고,\n",
        "  # 삽입할 데이터의 next에는 삽입할 데이터가 위치할 곳 바로 이전의 데이터의 next에 담긴 노드 객체가 들어가야됨\n",
        "  # node.next에 바로 node2객체를 담으면 원래 node.next에 있던 값이 node2.next에 들어가야 하는데 그 값이 사라지므로\n",
        "  # node_next라는 새로운 변수를 만들어준다 \n",
        "  node_next = node.next \n",
        "  node.next = node2\n",
        "  node2.next = node_next"
      ],
      "metadata": {
        "id": "H27wdfzILhb-"
      },
      "execution_count": null,
      "outputs": []
    },
    {
      "cell_type": "markdown",
      "source": [
        "## **2. 객체지향 프로그래밍으로 링크드 리스트 구현 ***"
      ],
      "metadata": {
        "id": "VcnEpNzrNqzn"
      }
    },
    {
      "cell_type": "code",
      "source": [
        "class NodeMgmt:\n",
        "  def __init__(self, data):\n",
        "    self.head = Node(data)\n",
        "  def add(self, data):\n",
        "    if self.head == None:\n",
        "      self.head = Node(data)\n",
        "    else:\n",
        "      node = self.head\n",
        "      while node.next:\n",
        "        node = node.next\n",
        "      node.next = Node(data)\n",
        "  def node_print(self):\n",
        "    node = self.head\n",
        "    while node:\n",
        "      print(node.data)\n",
        "      node = node.next\n",
        "  def delete(self, data):\n",
        "    #head에 노드가 없을 경우 -> return\n",
        "    #지우려는값이 head에 있을 경우 -> head의 next 객체를 head로 만들고 head 삭제  \n",
        "    #지우려는값이 head에 없는 경우 -> 순회, 지우려는 값을 찾으면 ex 5 6 7 에서 6을 지우려면 5(node)의 next(node.next)에는 6(node.next.data)이\n",
        "    # 담겨있었는데 6의 next인 7(node.next.next)이담기고 6이 지워져야함\n",
        "    if self.head == None:\n",
        "      print(\"head에 노드가 없습니다\")\n",
        "      return\n",
        "\n",
        "    if self.head.data == data:\n",
        "      print(\"지우려는 값이 head에 있습니다\")\n",
        "      temp = self.head\n",
        "      self.head = self.head.next\n",
        "      del temp\n",
        "    else:\n",
        "      print('지우려는 값이 head에 없습니다')\n",
        "      node = self.head\n",
        "      while node.next:\n",
        "        if node.next.data == data:\n",
        "          temp = node.next.data\n",
        "          node.next = node.next.next\n",
        "          del temp\n",
        "          return\n",
        "        else: \n",
        "          node = node.next\n",
        "    "
      ],
      "metadata": {
        "id": "rlxLog_WOwgf"
      },
      "execution_count": null,
      "outputs": []
    },
    {
      "cell_type": "code",
      "source": [
        "node1 = NodeMgmt(1)\n",
        "for index in range(2, 11):\n",
        "  node1.add(index);\n",
        "node1.node_print()"
      ],
      "metadata": {
        "colab": {
          "base_uri": "https://localhost:8080/"
        },
        "id": "0rkcuJ4BPtM3",
        "outputId": "fdd680b0-2e11-40fc-e279-80ebcf35d14b"
      },
      "execution_count": null,
      "outputs": [
        {
          "output_type": "stream",
          "name": "stdout",
          "text": [
            "1\n",
            "2\n",
            "3\n",
            "4\n",
            "5\n",
            "6\n",
            "7\n",
            "8\n",
            "9\n",
            "10\n"
          ]
        }
      ]
    },
    {
      "cell_type": "code",
      "source": [
        "linkedList1 = NodeMgmt(0)\n",
        "linkedList1.node_print() # 0\n",
        "for data in range(1, 11):\n",
        "  linkedList1.add(data)\n",
        "linkedList1.node_print() # 0 1 2 3 4 5 6 7 8 9 10 "
      ],
      "metadata": {
        "colab": {
          "base_uri": "https://localhost:8080/"
        },
        "id": "ceEL4Px0Tf5N",
        "outputId": "a942bb8c-522b-42f6-8d20-11afc6b98b7c"
      },
      "execution_count": null,
      "outputs": [
        {
          "output_type": "stream",
          "name": "stdout",
          "text": [
            "0\n",
            "0\n",
            "1\n",
            "2\n",
            "3\n",
            "4\n",
            "5\n",
            "6\n",
            "7\n",
            "8\n",
            "9\n",
            "10\n"
          ]
        }
      ]
    },
    {
      "cell_type": "code",
      "source": [
        "linkedList2 = NodeMgmt(0)\n",
        "linkedList2.node_print()\n",
        "linkedList2.head # <__main__.Node at 0x7fc048abe350>\n",
        "linkedList2.delete(0) # 지우려는 값이 head에 있습니다"
      ],
      "metadata": {
        "colab": {
          "base_uri": "https://localhost:8080/"
        },
        "id": "QyYgv3nuT1zy",
        "outputId": "6bf9dcbb-cb49-4e1a-eeb7-73c9d19f71c2"
      },
      "execution_count": null,
      "outputs": [
        {
          "output_type": "stream",
          "name": "stdout",
          "text": [
            "0\n",
            "지우려는 값이 head에 있습니다\n"
          ]
        }
      ]
    },
    {
      "cell_type": "code",
      "source": [
        "linkedList2.delete(0) # head에 노드가 없습니댜"
      ],
      "metadata": {
        "colab": {
          "base_uri": "https://localhost:8080/"
        },
        "id": "ddx4TKZGURGZ",
        "outputId": "90b441f1-9e7f-476f-a1bd-bceb1c8e443c"
      },
      "execution_count": null,
      "outputs": [
        {
          "output_type": "stream",
          "name": "stdout",
          "text": [
            "head에 노드가 없습니다\n"
          ]
        }
      ]
    },
    {
      "cell_type": "code",
      "source": [
        "linkedList2 = NodeMgmt(0)\n",
        "for index in range(1, 11):\n",
        "  linkedList2.add(index)\n",
        "linkedList2.node_print()\n",
        "linkedList2.delete(4)\n",
        "print(\"데이터 필드에 4를 담는 노드 객체 삭제 후 링크드리스트 출력 --------\\n\")\n",
        "linkedList2.node_print()"
      ],
      "metadata": {
        "colab": {
          "base_uri": "https://localhost:8080/"
        },
        "id": "Z0irseauUW2u",
        "outputId": "1047401f-6c51-44f2-cdc9-efc9d2d6a35f"
      },
      "execution_count": null,
      "outputs": [
        {
          "output_type": "stream",
          "name": "stdout",
          "text": [
            "0\n",
            "1\n",
            "2\n",
            "3\n",
            "4\n",
            "5\n",
            "6\n",
            "7\n",
            "8\n",
            "9\n",
            "10\n",
            "지우려는 값이 head에 없습니다\n",
            "데이터 필드에 4를 담는 노드 객체 삭제 후 링크드리스트 출력 --------\n",
            "\n",
            "0\n",
            "1\n",
            "2\n",
            "3\n",
            "5\n",
            "6\n",
            "7\n",
            "8\n",
            "9\n",
            "10\n"
          ]
        }
      ]
    }
  ]
}