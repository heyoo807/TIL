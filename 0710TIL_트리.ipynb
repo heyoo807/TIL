{
  "nbformat": 4,
  "nbformat_minor": 0,
  "metadata": {
    "colab": {
      "name": "0710TIL_트리.ipynb",
      "provenance": [],
      "collapsed_sections": [],
      "authorship_tag": "ABX9TyNSphl+ar/FdXrzk2eN3gJu",
      "include_colab_link": true
    },
    "kernelspec": {
      "name": "python3",
      "display_name": "Python 3"
    },
    "language_info": {
      "name": "python"
    }
  },
  "cells": [
    {
      "cell_type": "markdown",
      "metadata": {
        "id": "view-in-github",
        "colab_type": "text"
      },
      "source": [
        "<a href=\"https://colab.research.google.com/github/heyoo807/TIL/blob/master/0710TIL_%ED%8A%B8%EB%A6%AC.ipynb\" target=\"_parent\"><img src=\"https://colab.research.google.com/assets/colab-badge.svg\" alt=\"Open In Colab\"/></a>"
      ]
    },
    {
      "cell_type": "markdown",
      "source": [
        "## **1. 트리(Tree)**\n",
        "* Node와 Branch를 이용해서 사이클을 이루지 않도록 구성한 데이터 구조\n",
        "* 트리 중 이진 트리(Binary Tree)형태의 구조로 탐색(검색)알고리즘 구현을 위해 많이 사용됨"
      ],
      "metadata": {
        "id": "HBjbqN8pjfDi"
      }
    },
    {
      "cell_type": "markdown",
      "source": [
        "## **2. 알아둘 용어**\n",
        "* Node : 트리에서 데이터를 저장하는 기본 요소( 데이터와 다른 연결된 노드에 대한 Branch 정보를 포함)\n",
        "* Root Node : 트리 맨 위에 있는 노드\n",
        "* Level : 최상위 노드를 Level 0으로 했을 때 하위 Branch로 연결된 노드의 깊이를 나타냄\n",
        "* Parent Node : 어떤 노드의 상위 레벨에 연결된 노드\n",
        "* Child Node : 어떤 노드의 하위 레벨에 연결된 노드\n",
        "* Leaf Node : Child Node가 하나도 없는 노드\n",
        "* Sibling Node : 동일한 Parent Node를 가진 노드"
      ],
      "metadata": {
        "id": "CenIrSAik26N"
      }
    },
    {
      "cell_type": "markdown",
      "source": [
        "## **3. 이진 트리와 이진 탐색 트리(Binary Search Tree)**\n",
        "* 이진 트리 : 노드의 최대 Branch가 2개인 트리\n",
        "* 이진 탐색 트리 : 이진 트리에 아래와 같은 조건이 추가된 트리\n",
        "  * 왼쪽 노드는 해당 노드보다 작은 값, 오른쪽 노드는 해당 노드보다 큰 값을 가짐\n",
        "\n",
        "<img src=\"https://www.mathwarehouse.com/programming/images/binary-search-tree/binary-search-tree-insertion-animation.gif\">\n",
        "  "
      ],
      "metadata": {
        "id": "4PWfdpo7lgDB"
      }
    },
    {
      "cell_type": "markdown",
      "source": [
        "4. 자료 구조 이진 탐색 트리의 장접과 주요 용도\n",
        "* 주요 용도 : 데이터 검색(탐색)\n",
        "* 장점 : 탐색 속도를 개선할 수 있음\n",
        "\n",
        "<img src=\"https://www.mathwarehouse.com/programming/images/binary-search-tree/binary-search-tree-sorted-array-animation.gif\">"
      ],
      "metadata": {
        "id": "T8uss2vblVxY"
      }
    },
    {
      "cell_type": "markdown",
      "source": [
        "## **5. 파이썬 객체지향 프로그래밍으루 이진 탐색 트리 구현**"
      ],
      "metadata": {
        "id": "5L-hqLlxm67U"
      }
    },
    {
      "cell_type": "markdown",
      "source": [
        "### **5-1. 노드 클래스 만들기 ***"
      ],
      "metadata": {
        "id": "de98xB_Rm-my"
      }
    },
    {
      "cell_type": "code",
      "source": [
        "class Node:\n",
        "  def __init__(self, value):\n",
        "    self.value = value\n",
        "    self.left = None\n",
        "    self.right = None"
      ],
      "metadata": {
        "id": "60hgTYgbnAnm"
      },
      "execution_count": null,
      "outputs": []
    },
    {
      "cell_type": "markdown",
      "source": [
        "### **5-2. 이진 탐색 트리에 데이터 넣기**"
      ],
      "metadata": {
        "id": "zUXQ7NwpnIJR"
      }
    },
    {
      "cell_type": "code",
      "source": [
        "# 이진 탐색 트리 조건에 부합하게 데이터를 넣어야 함 \n",
        "# 중복 데이터는 넣지 않음\n",
        "\n",
        "class NodeMgmt:\n",
        "  def __init__(self, head):\n",
        "    self.head = head\n",
        "  def insert(self, value):\n",
        "    self.current_node = self.head\n",
        "    while True:\n",
        "      if value < self.current_node.value:\n",
        "        if self.current_node.left != None:\n",
        "          self.current_node = self.current_node.left\n",
        "        else:\n",
        "          self.current_node.left = Node(value)\n",
        "          break\n",
        "      else:\n",
        "        if self.current_node.right != None:\n",
        "          self.current_node = self.current_node.right\n",
        "        else:\n",
        "          self.current_node.right = Node(value)\n",
        "          break"
      ],
      "metadata": {
        "id": "dRiv2u9KnLdx"
      },
      "execution_count": null,
      "outputs": []
    },
    {
      "cell_type": "code",
      "source": [
        "head = Node(10)\n",
        "BST = NodeMgmt(head)"
      ],
      "metadata": {
        "id": "yIoFSNmOn7M3"
      },
      "execution_count": null,
      "outputs": []
    },
    {
      "cell_type": "code",
      "source": [
        "BST.insert(4)"
      ],
      "metadata": {
        "id": "u7DM8CVCn_z1"
      },
      "execution_count": null,
      "outputs": []
    },
    {
      "cell_type": "markdown",
      "source": [
        "### **5-3. 이진 탐색 트리의 탐색**"
      ],
      "metadata": {
        "id": "O6NEZ7UxoP4E"
      }
    },
    {
      "cell_type": "code",
      "source": [
        "class NodeMgmt:\n",
        "  def __init__(self, head):\n",
        "    self.head = head\n",
        "  def insert(self, value):\n",
        "    self.current_node = self.head\n",
        "    while True:\n",
        "      if value < self.current_node.value:\n",
        "        if self.current_node.left != None:\n",
        "          self.current_node = self.current_node.left\n",
        "        else:\n",
        "          self.current_node.left = Node(value)\n",
        "          break\n",
        "      else:\n",
        "          if self.current_node.right != None:\n",
        "            self.current_node = self.current_node.right\n",
        "          else:\n",
        "            self.current_node.right = Node(value)\n",
        "            break\n",
        "  def search(self, value):\n",
        "    self.current_node = self.head\n",
        "    while self.current_node:\n",
        "      if self.current_node.value == value:\n",
        "        return True\n",
        "      elif value < self.current_node.value:\n",
        "        self.current_node = self.current_node.left\n",
        "      else:\n",
        "        self.current_node = self.current_node.right\n",
        "    return False"
      ],
      "metadata": {
        "id": "C6G_R4DpoWIN"
      },
      "execution_count": null,
      "outputs": []
    },
    {
      "cell_type": "code",
      "source": [
        "head = Node(10)\n",
        "BST = NodeMgmt(head)\n",
        "BST.insert(2)\n",
        "BST.insert(5)\n",
        "BST.insert(13)\n",
        "BST.insert(19)\n",
        "BST.insert(11)\n",
        "BST.insert(8)"
      ],
      "metadata": {
        "id": "cZAnMQJEtqxe"
      },
      "execution_count": null,
      "outputs": []
    },
    {
      "cell_type": "code",
      "source": [
        "print(BST.search(8))"
      ],
      "metadata": {
        "colab": {
          "base_uri": "https://localhost:8080/"
        },
        "id": "j3d9Vxs9t2J1",
        "outputId": "0254d89f-0562-4d98-9ec1-0265ebb0a3d0"
      },
      "execution_count": null,
      "outputs": [
        {
          "output_type": "stream",
          "name": "stdout",
          "text": [
            "True\n"
          ]
        }
      ]
    },
    {
      "cell_type": "code",
      "source": [
        "print(BST.search(19))"
      ],
      "metadata": {
        "colab": {
          "base_uri": "https://localhost:8080/"
        },
        "id": "vRFiQpdYt4Fr",
        "outputId": "c8be32eb-2fdb-4e85-de38-bba604bd7c22"
      },
      "execution_count": null,
      "outputs": [
        {
          "output_type": "stream",
          "name": "stdout",
          "text": [
            "True\n"
          ]
        }
      ]
    },
    {
      "cell_type": "code",
      "source": [
        "print(BST.search(100))"
      ],
      "metadata": {
        "colab": {
          "base_uri": "https://localhost:8080/"
        },
        "id": "BnkSKAkjt6j4",
        "outputId": "15be6092-f99c-4a5d-80ca-16aa3ab0a614"
      },
      "execution_count": null,
      "outputs": [
        {
          "output_type": "stream",
          "name": "stdout",
          "text": [
            "False\n"
          ]
        }
      ]
    },
    {
      "cell_type": "markdown",
      "source": [
        "### **5-4. 이진 탐색 트리 삭제 ***\n",
        "* Leaf Node 삭제\n",
        "  * Leaf Node : Child Node가 없는 Node\n",
        "  * 삭제할 Node의 Parent Node가 Node를 가리키지 않도록 함\n",
        "* 삭제할 node 탐색\n",
        "```\n",
        "searched = False\n",
        "self.current_node = self.head\n",
        "self.parent = self.head\n",
        "while self.current_node:\n",
        "  if self.current_node.value == value: \n",
        "    searched = True\n",
        "    break\n",
        "  elif value < self.current_node:\n",
        "    self.parent = self.current_node\n",
        "    self.current_node = self.current_node.left\n",
        "  else:\n",
        "    self.parent = self.current_node\n",
        "    self.current_node = self.current_node.right\n",
        "if searched == False\n",
        "  return False\n",
        "```\n",
        "* 삭제할 node가 Leaf Node일 경우\n",
        "```\n",
        "if self.current_node.left == None and self.current_node.right == None:\n",
        "  if value < self.parent.value:\n",
        "    self.parent.left = None\n",
        "  else:\n",
        "    self.parent.right = None\n",
        "```\n",
        "* Child Node가 하나인 Node 삭제\n",
        "  * 삭제할 node의 Parent Node가 삭제할 Node의 Child Node를 가리키게 함\n",
        "```\n",
        "if self.current_node.left != None and self.current_node.right == None:\n",
        "  if value < self.parent.value:\n",
        "    self.parent.left = self.current_node.left\n",
        "  else:\n",
        "    self.parent.right = self.current_node.left\n",
        "elif self.current_node.left == None and self.cuurent_node.right != None:\n",
        "  if value < self.parent.value:\n",
        "    self.parent.left = self.current_node.right\n",
        "  else:\n",
        "    self.parent.right = self.current_node.right\n",
        "```\n",
        "* Child Node가 두개인 Node 삭제\n",
        "  * 삭제할 Node의 오른쪽 자식 중 가장 작은 값을 삭제할 Node의 Parent Node가 가리키도록 함\n",
        "  * 삭제할 Node가 Parent Node의 왼쪽에 있을 때\n",
        "    * 삭제할 Node의 오른쪽 자식 중 가장 작은 값을 가진 Node의 Child Node 가 없을 때\n",
        "    * 삭제할 Node의 오른 쪽 자식 중 가장 작은 값을 가진 Node의 오른쪽에 Child Node가 있을 때\n",
        "  * 삭제할 Node가 Parent Node의 오른쪽에 있을 때\n",
        "    * 삭제할 Node의 오른쪽 자식 중 가장 작은 값을 가진 Node의 Child Node 가 없을 때\n",
        "    * 삭제할 Node의 오른 쪽 자식 중 가장 작은 값을 가진 Node의 오른쪽에 Child Node가 있을 때\n",
        ">가장 작은 값을 가진 Node의 Child Node가 왼쪽에 있는 경우는 없음. 왼쪽 Node가 있다는 것은 해당 Node보다 더 작은 값을 가진 Node가 있다는 뜻 \n"
      ],
      "metadata": {
        "id": "JAWkneSyuAIo"
      }
    },
    {
      "cell_type": "code",
      "source": [
        "class Node:\n",
        "  def __init__(self, value):\n",
        "    self.value = value\n",
        "    self.left = None\n",
        "    self.right = None\n",
        "\n",
        "class NodeMgmt:\n",
        "  def __init__(self, head):\n",
        "    self.head = head\n",
        "  def insert(self, value):\n",
        "    self.current_node = self.head\n",
        "    while True:\n",
        "      if value < self.current_node.value: # insert하려는 노드의 value가 현재노드보다 작을 경우 \n",
        "        if self.current_node.left != None: # 현재노드의 왼쪽 자식 노드가 이미 있는 경우\n",
        "          self.current_node = self.current_node.left # 현재 노드를 현재노드의 왼쪽 자식 노드로 \n",
        "        else: # 현재노드의 왼쪽 자식 노드가 없을 경우\n",
        "          self.current_node.left = Node(value)  # Node클래스로 삽입하려는 노드를 생성후 현재노드의 자식노드로\n",
        "          break\n",
        "      else: # insert하려는 노드의 value가 현재노드보다 클 경우\n",
        "        if self.current_node.right != None:\n",
        "          self.current_node = self.current_node.right\n",
        "        else:\n",
        "          self.current_node.right = Node(value)\n",
        "          break\n",
        "  def search(self, value):\n",
        "    self.current_node = self.head\n",
        "    while self.current_node:\n",
        "      if self.current_node.value == value:\n",
        "        return True\n",
        "      elif value < self.current_node.value:\n",
        "        self.current_node = self.current_node.left\n",
        "      else:\n",
        "        self.current_node = self.current_node.right\n",
        "    return False\n",
        "  \n",
        "  def delete(self, value):\n",
        "    # 삭제할 노드 탐색\n",
        "    searched = False\n",
        "    self.current_node = self.head\n",
        "    self.parent = self.head\n",
        "\n",
        "    while self.current_node:\n",
        "      if self.current_node.value == value:\n",
        "        searched = True\n",
        "        break\n",
        "      elif value < self.current_node.value:\n",
        "        self.parent = self.current_node\n",
        "        self.current_node = self.current_node.left\n",
        "      else:\n",
        "        self.parent= self.current_node\n",
        "        self.current_node = self.current_node.right\n",
        "\n",
        "    if searched == False:\n",
        "      return False\n",
        "\n",
        "    # Leaf Node인 경우\n",
        "    if self.current_node.left == None and self.current_node.right == None:\n",
        "      if value < self.parent.value:\n",
        "        self.parent.left = None\n",
        "      else:\n",
        "        self.parent.right = None\n",
        "    # Child Node가 하나인 경우 (왼쪽 자식노드만 있는 경우)\n",
        "    elif self.current_node.left != None and self.current_node.right == None:\n",
        "      if value < self.parent.value:\n",
        "        self.parent.left = self.current_node.left\n",
        "      else:\n",
        "        self.parent.right = self.current_node.left\n",
        "    # Child Node가 하나인 경우 (오른쪽 자식노드만 있는 경우)\n",
        "    elif self.current_node.left == None and self.current_node.right != None:\n",
        "      if value < self.parent.value:\n",
        "        self.parent.left = self.current_node.right\n",
        "      else:\n",
        "        self.parent.right = self.current_node.right\n",
        "    # Child Node가 두 개인 경우\n",
        "    elif self.current_node.left != None and self.current_node.right != None:\n",
        "      if value < self.parent.value: # 부모 노드의 왼쪽 자식 노드일 경우\n",
        "        self.change_node = self.current_node.right\n",
        "        self.change_node_parent = self.current_node.right\n",
        "        while self.change_node.left != None: # 삭제할 노드의 오른쪽 자식인 change_node의 자식 중 가장 작은 값을 change_node에 저장하기 위한 반복문\n",
        "          self.change_node_parent = self.change_node\n",
        "          self.change_node = self.change_node.left\n",
        "        if self.change_node.right != None: # 삭제할 노드의 오른쪽 자식이 있으면 change_node_parent의 왼쪽 자식으로 변경해주어야 함\n",
        "          self.change_node_parent.left = self.change_node.right\n",
        "        else:\n",
        "          self.change_node_parent.left = None\n",
        "        self.parent.left = self.change_node\n",
        "        self.change_node.left = self.current_node.left\n",
        "        self.change_node.right = self.current_node.right\n",
        "      else: # 부모 노드의 오른쪽 자식일 경우\n",
        "        self.change_node = self.current_node.right\n",
        "        self.change_node_parent = self.change_node\n",
        "        while self.change_node.left != None:\n",
        "          self.change_node_parent = self.change_node\n",
        "          self.change_node = self.change_node.left\n",
        "        if self.change_node.right != None:\n",
        "          self.change_node_parent.left = self.change_node.right\n",
        "        else:\n",
        "          self.change_node_parent.left = None\n",
        "        self.parent.right = self.change_node\n",
        "        self.change_node.left = self.current_node.left\n",
        "        self.change_node.right = self.current_node.right\n",
        "    return True\n",
        "       \n"
      ],
      "metadata": {
        "id": "VSy-9eHo2bMw"
      },
      "execution_count": null,
      "outputs": []
    },
    {
      "cell_type": "markdown",
      "source": [
        "### **5-6. 전체 코드 테스트**\n",
        "* random 라이브러리 활용\n",
        "  * random.randint(첫번째 숫자, 마지막 숫자) : 첫번째 숫자부터 마지막 숫자 사이에 있는 숫자를 랜덤학 선택해서 리턴"
      ],
      "metadata": {
        "id": "Ce2rfqTWCIB1"
      }
    },
    {
      "cell_type": "code",
      "source": [
        "import random\n",
        "\n",
        "bst_nums = set()\n",
        "while len(bst_nums) != 100:\n",
        "  val = random.randint(0, 999)\n",
        "  if val != 500:\n",
        "    bst_nums.add(val)\n",
        "print(bst_nums)\n",
        "\n",
        "# 임의로 루트노드는 500을 넣어둠\n",
        "head = Node(500)\n",
        "binary_tree = NodeMgmt(head)\n",
        "for num in bst_nums:\n",
        "  binary_tree.insert(num)\n",
        "for num in bst_nums:\n",
        "  if binary_tree.search(num) == False:\n",
        "    print('검색 실패 : ', num)\n",
        "delete_nums = set()\n",
        "bst_nums = list(bst_nums)\n",
        "while len(delete_nums) != 10:\n",
        "  delete_nums.add(bst_nums[random.randint(0, 99)])\n",
        "print(delete_nums)\n",
        "for del_num in delete_nums:\n",
        "  if binary_tree.search(del_num) == True:\n",
        "    print('검색 성공: ', del_num)\n",
        "\n",
        "for del_num in delete_nums:\n",
        "  if binary_tree.delete(del_num) == True:\n",
        "    print('삭제 성공:',del_num)\n",
        "  else:\n",
        "    print('삭제 실패', del_num)\n"
      ],
      "metadata": {
        "colab": {
          "base_uri": "https://localhost:8080/"
        },
        "id": "y0fR1oq9ChDi",
        "outputId": "f434afe8-b877-4a20-c990-c969a6d5c3da"
      },
      "execution_count": null,
      "outputs": [
        {
          "output_type": "stream",
          "name": "stdout",
          "text": [
            "{1, 3, 519, 520, 531, 535, 37, 559, 49, 562, 563, 568, 62, 590, 593, 87, 605, 93, 609, 105, 619, 109, 114, 115, 117, 650, 651, 652, 142, 654, 656, 658, 659, 663, 666, 671, 705, 197, 712, 713, 205, 207, 722, 218, 731, 220, 224, 738, 239, 244, 759, 267, 268, 270, 271, 789, 277, 279, 802, 291, 807, 809, 820, 823, 825, 826, 828, 829, 833, 842, 335, 849, 342, 353, 866, 357, 358, 874, 366, 886, 897, 898, 903, 904, 910, 401, 920, 410, 414, 420, 439, 455, 968, 466, 980, 470, 993, 489, 497, 503}\n",
            "{105, 874, 268, 559, 207, 49, 658, 401, 439, 920}\n",
            "검색 성공:  105\n",
            "검색 성공:  874\n",
            "검색 성공:  268\n",
            "검색 성공:  559\n",
            "검색 성공:  207\n",
            "검색 성공:  49\n",
            "검색 성공:  658\n",
            "검색 성공:  401\n",
            "검색 성공:  439\n",
            "검색 성공:  920\n",
            "삭제 성공: 105\n",
            "삭제 성공: 874\n",
            "삭제 성공: 268\n",
            "삭제 성공: 559\n",
            "삭제 성공: 207\n",
            "삭제 성공: 49\n",
            "삭제 성공: 658\n",
            "삭제 성공: 401\n",
            "삭제 성공: 439\n",
            "삭제 성공: 920\n"
          ]
        }
      ]
    }
  ]
}