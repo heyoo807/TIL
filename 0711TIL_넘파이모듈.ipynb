{
  "nbformat": 4,
  "nbformat_minor": 0,
  "metadata": {
    "colab": {
      "name": "0711TIL_넘파이모듈.ipynb",
      "provenance": [],
      "collapsed_sections": [],
      "authorship_tag": "ABX9TyNTKtlb+ckktMoIt4jzWjJn",
      "include_colab_link": true
    },
    "kernelspec": {
      "name": "python3",
      "display_name": "Python 3"
    },
    "language_info": {
      "name": "python"
    }
  },
  "cells": [
    {
      "cell_type": "markdown",
      "metadata": {
        "id": "view-in-github",
        "colab_type": "text"
      },
      "source": [
        "<a href=\"https://colab.research.google.com/github/heyoo807/TIL/blob/master/0711TIL_%EB%84%98%ED%8C%8C%EC%9D%B4%EB%AA%A8%EB%93%88.ipynb\" target=\"_parent\"><img src=\"https://colab.research.google.com/assets/colab-badge.svg\" alt=\"Open In Colab\"/></a>"
      ]
    },
    {
      "cell_type": "markdown",
      "source": [
        "## **1. Numpy**\n",
        "* 수학, 과학 계산용 패키지\n",
        "* 성능 : 파이썬의 리스트보다 빠름\n",
        "* 메모리 사이즈 : 파이썬의 리스트보다 적은 메모리를 사용\n",
        "* 빌트인 함수: 선형 대수, 통계 관련 여러 함수들을 내장"
      ],
      "metadata": {
        "id": "2vCX_a5f-ATn"
      }
    },
    {
      "cell_type": "code",
      "source": [
        "!pip install numpy"
      ],
      "metadata": {
        "colab": {
          "base_uri": "https://localhost:8080/"
        },
        "id": "9mZXPL8N-zZ4",
        "outputId": "84e07d57-745c-49ba-a04b-da284bd5df06"
      },
      "execution_count": null,
      "outputs": [
        {
          "output_type": "stream",
          "name": "stdout",
          "text": [
            "Looking in indexes: https://pypi.org/simple, https://us-python.pkg.dev/colab-wheels/public/simple/\n",
            "Requirement already satisfied: numpy in /usr/local/lib/python3.7/dist-packages (1.21.6)\n"
          ]
        }
      ]
    },
    {
      "cell_type": "code",
      "source": [
        "import numpy as np"
      ],
      "metadata": {
        "id": "s0H4kTNY-4IQ"
      },
      "execution_count": null,
      "outputs": []
    },
    {
      "cell_type": "markdown",
      "source": [
        "### **1-1. array(배열)**"
      ],
      "metadata": {
        "id": "N8rHRb1J-5KF"
      }
    },
    {
      "cell_type": "markdown",
      "source": [
        "### **1-2. array의 data타입**\n",
        "* nd array는 list와 다르게 하나의 단일 데이터만 허용함"
      ],
      "metadata": {
        "id": "-jmye5AZ_MTH"
      }
    },
    {
      "cell_type": "markdown",
      "source": [
        "### **1-3. 슬라이싱(Slicing)**\n",
        "* 배열의 부분 선택"
      ],
      "metadata": {
        "id": "iOp6rEWw_Uat"
      }
    },
    {
      "cell_type": "markdown",
      "source": [
        "### **1-4. Fancy 인덱싱**\n",
        "* 범위가 아닌 특정 index의 값을 선택하여 추출하고 싶을때 활용"
      ],
      "metadata": {
        "id": "O5GVZt0F_zfw"
      }
    },
    {
      "cell_type": "markdown",
      "source": [
        "### **1-5. Boolean 인덱싱**\n",
        "* 조건 필터링을 통하여 Boolean 값을 이용한 색인"
      ],
      "metadata": {
        "id": "AGBMQRWX_7Xt"
      }
    },
    {
      "cell_type": "markdown",
      "source": [
        "## **2. 행렬 연산**"
      ],
      "metadata": {
        "id": "oV0FT8AVBMRB"
      }
    },
    {
      "cell_type": "markdown",
      "source": [
        "### **2-1. Matrix**\n",
        "* 행(row) + 열(column)\n",
        "* 데이터 분석 및 기계학습에서는 행렬을 제외하고 연산할 수 없음"
      ],
      "metadata": {
        "id": "163NRGzNBP2e"
      }
    },
    {
      "cell_type": "markdown",
      "source": [
        "### **2-2. 덧셈, 뺄셈, 곱셈 연산**\n",
        "* shape가 같아야 함\n",
        "* 같은 position끼리 연산"
      ],
      "metadata": {
        "id": "oSLO_ViCBYnQ"
      }
    },
    {
      "cell_type": "markdown",
      "source": [
        "### **2-3. dot product**\n",
        "* 맞닿는 shape가 같아야 함"
      ],
      "metadata": {
        "id": "VcIah7oXCaTI"
      }
    },
    {
      "cell_type": "code",
      "source": [
        "a = np.array([[1, 2, 3], \n",
        "             [1, 2, 3],\n",
        "             [2, 3, 4]])\n",
        "b = np.array([[1, 2],\n",
        "             [3, 4],\n",
        "             [5, 6]])"
      ],
      "metadata": {
        "id": "3pFjdYOMCjqg"
      },
      "execution_count": null,
      "outputs": []
    },
    {
      "cell_type": "code",
      "source": [
        "a.shape, b.shape # (3, 3) # (3, 2)"
      ],
      "metadata": {
        "colab": {
          "base_uri": "https://localhost:8080/"
        },
        "id": "hXI877NpCy_L",
        "outputId": "bcef0390-83f6-4c72-d706-1178759c5026"
      },
      "execution_count": null,
      "outputs": [
        {
          "output_type": "execute_result",
          "data": {
            "text/plain": [
              "((3, 3), (3, 2))"
            ]
          },
          "metadata": {},
          "execution_count": 5
        }
      ]
    },
    {
      "cell_type": "code",
      "source": [
        "np.dot(a, b)"
      ],
      "metadata": {
        "colab": {
          "base_uri": "https://localhost:8080/"
        },
        "id": "XCRJz74ACs4y",
        "outputId": "e295e715-2d1c-4560-d196-4dd30fd4b610"
      },
      "execution_count": null,
      "outputs": [
        {
          "output_type": "execute_result",
          "data": {
            "text/plain": [
              "array([[22, 28],\n",
              "       [22, 28],\n",
              "       [31, 40]])"
            ]
          },
          "metadata": {},
          "execution_count": 6
        }
      ]
    },
    {
      "cell_type": "markdown",
      "source": [
        "### **2-6. arrange**\n",
        "* 순차적인 값을 생성할 때 사용 "
      ],
      "metadata": {
        "id": "8iCq5e4uDOmb"
      }
    },
    {
      "cell_type": "code",
      "source": [
        "arr = np.arange(1, 11)"
      ],
      "metadata": {
        "id": "OwHpKZs3DXxW"
      },
      "execution_count": null,
      "outputs": []
    },
    {
      "cell_type": "code",
      "source": [
        "arr"
      ],
      "metadata": {
        "colab": {
          "base_uri": "https://localhost:8080/"
        },
        "id": "ZMmKPZM1DaeM",
        "outputId": "91759c28-6745-4a2e-f548-452bc376b92c"
      },
      "execution_count": null,
      "outputs": [
        {
          "output_type": "execute_result",
          "data": {
            "text/plain": [
              "array([ 1,  2,  3,  4,  5,  6,  7,  8,  9, 10])"
            ]
          },
          "metadata": {},
          "execution_count": 8
        }
      ]
    },
    {
      "cell_type": "code",
      "source": [
        "arr = np.arange(start = 1, stop = 11)"
      ],
      "metadata": {
        "id": "pEcvA8tkDcuh"
      },
      "execution_count": null,
      "outputs": []
    },
    {
      "cell_type": "code",
      "source": [
        "arr"
      ],
      "metadata": {
        "colab": {
          "base_uri": "https://localhost:8080/"
        },
        "id": "sX7SjNUlDgCW",
        "outputId": "cf02d863-3465-43ba-f169-8a667b60fb62"
      },
      "execution_count": null,
      "outputs": [
        {
          "output_type": "execute_result",
          "data": {
            "text/plain": [
              "array([ 1,  2,  3,  4,  5,  6,  7,  8,  9, 10])"
            ]
          },
          "metadata": {},
          "execution_count": 10
        }
      ]
    },
    {
      "cell_type": "code",
      "source": [
        "arr = range(1, 11) # 파이썬 표준 함수"
      ],
      "metadata": {
        "id": "affT1fzLDl0E"
      },
      "execution_count": null,
      "outputs": []
    },
    {
      "cell_type": "code",
      "source": [
        "arr"
      ],
      "metadata": {
        "colab": {
          "base_uri": "https://localhost:8080/"
        },
        "id": "zJyNL-AIDnfi",
        "outputId": "8de1cc5a-8961-416a-f3eb-d12d0320c6ba"
      },
      "execution_count": null,
      "outputs": [
        {
          "output_type": "execute_result",
          "data": {
            "text/plain": [
              "range(1, 11)"
            ]
          },
          "metadata": {},
          "execution_count": 12
        }
      ]
    },
    {
      "cell_type": "markdown",
      "source": [
        "### **2-7. 정렬(sort)**"
      ],
      "metadata": {
        "id": "mtWUNT1JDn3c"
      }
    },
    {
      "cell_type": "code",
      "source": [
        "arr = np.array([1, 10, 4, 8, 2, 3, 6, 1, 5, 9, 7])\n",
        "arr"
      ],
      "metadata": {
        "colab": {
          "base_uri": "https://localhost:8080/"
        },
        "id": "eWHDY2b0ECD7",
        "outputId": "b6fb84cd-cbf3-472e-e398-97a971a12757"
      },
      "execution_count": null,
      "outputs": [
        {
          "output_type": "execute_result",
          "data": {
            "text/plain": [
              "array([ 1, 10,  4,  8,  2,  3,  6,  1,  5,  9,  7])"
            ]
          },
          "metadata": {},
          "execution_count": 13
        }
      ]
    },
    {
      "cell_type": "code",
      "source": [
        "np.sort(arr)"
      ],
      "metadata": {
        "colab": {
          "base_uri": "https://localhost:8080/"
        },
        "id": "umEFfgEjELob",
        "outputId": "f7fe720a-16f1-4461-9df6-50fcea391072"
      },
      "execution_count": null,
      "outputs": [
        {
          "output_type": "execute_result",
          "data": {
            "text/plain": [
              "array([ 1,  1,  2,  3,  4,  5,  6,  7,  8,  9, 10])"
            ]
          },
          "metadata": {},
          "execution_count": 14
        }
      ]
    },
    {
      "cell_type": "code",
      "source": [
        "np.sort(arr)[::-1] # 내림차순"
      ],
      "metadata": {
        "colab": {
          "base_uri": "https://localhost:8080/"
        },
        "id": "XadOzswdET5V",
        "outputId": "9522d030-689f-4bfe-be35-34e9f480aa02"
      },
      "execution_count": null,
      "outputs": [
        {
          "output_type": "execute_result",
          "data": {
            "text/plain": [
              "array([10,  9,  8,  7,  6,  5,  4,  3,  2,  1,  1])"
            ]
          },
          "metadata": {},
          "execution_count": 15
        }
      ]
    },
    {
      "cell_type": "code",
      "source": [
        "# 이차원 배열의 행정렬, 열정렬"
      ],
      "metadata": {
        "id": "0ztmHK17Enbv"
      },
      "execution_count": null,
      "outputs": []
    }
  ]
}