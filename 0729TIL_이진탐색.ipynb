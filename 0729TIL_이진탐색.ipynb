{
  "nbformat": 4,
  "nbformat_minor": 0,
  "metadata": {
    "colab": {
      "name": "0729TIL_이진탐색.ipynb",
      "provenance": [],
      "collapsed_sections": [],
      "authorship_tag": "ABX9TyOGAoB4p8RvbL+pY7+68XJE",
      "include_colab_link": true
    },
    "kernelspec": {
      "name": "python3",
      "display_name": "Python 3"
    },
    "language_info": {
      "name": "python"
    }
  },
  "cells": [
    {
      "cell_type": "markdown",
      "metadata": {
        "id": "view-in-github",
        "colab_type": "text"
      },
      "source": [
        "<a href=\"https://colab.research.google.com/github/heyoo807/TIL/blob/master/0729TIL_%EC%9D%B4%EC%A7%84%ED%83%90%EC%83%89.ipynb\" target=\"_parent\"><img src=\"https://colab.research.google.com/assets/colab-badge.svg\" alt=\"Open In Colab\"/></a>"
      ]
    },
    {
      "cell_type": "markdown",
      "source": [
        "### **1. 이진탐색(Binary Search)**\n",
        "* 탐색할 자료를 둘로 나누어 해당 데이터가 있을 만한 곳을 탐색하는 방법"
      ],
      "metadata": {
        "id": "o2x7MyxJQoYp"
      }
    },
    {
      "cell_type": "markdown",
      "source": [
        "### **1-1. 이진 탐색과 순차 탐색의 비교 ***\n",
        "<img src=\"https://www.mathwarehouse.com/programming/images/binary-vs-linear-search/binary-and-linear-search-animations.gif\">"
      ],
      "metadata": {
        "id": "XEt9J0KgRYdo"
      }
    },
    {
      "cell_type": "markdown",
      "source": [
        "## **2. 분할 정복 알고리즘과 이진 탐색 ***\n",
        "* 분할 정복 알고리즘\n",
        "  * Divide : 문제를 하나 또는 둘 이상으로 나눔\n",
        "  * Conquer : 나눠진 문제가 충분히 작고, 해결이 가능하다면 해결하고, 그렇지 않다면 다시 나눔 \n",
        "* 이진 탐색\n",
        "  * Divide : 리스트를 두 개의 서브 리스트로 나눔\n",
        "  * Conquer \n",
        "    * 검색할 숫자(search) > 중간값이면 뒷 부분의 서브 리스트에서 검색할 숫자를 찾음\n",
        "    * 검색할 숫자(search) < 중간값이면 앞 부분의 서브 리스트에서 겁색할 숫자를 찾음 "
      ],
      "metadata": {
        "id": "xd8CYIXQRMss"
      }
    },
    {
      "cell_type": "markdown",
      "source": [
        "## **3. 알고리즘 구현 ***\n",
        "* 이진 탐색은 데이터가 정렬되어 있는 상태에서 진행\n",
        "* 데이터가 [2, 3, 8, 12, 20] 일 때\n",
        "  * binary_search(data_list, find_data)함수를 만듬\n",
        "    * data_list : 데이터 리스트\n",
        "    * find_data : 찾는 숫자\n",
        "    * data_list의 중간값을 find_data와 비교해서\n",
        "      * find_data < data_list의 중간값이라면\n",
        "        * 맨 앞부터 data_list의 중간까지에서 다시 find_data를 찾기\n",
        "      * data_list의 중간값 < find_data라면 \n",
        "        * data_list의 중간부터 맨 끝까지에서 다시 find_data를 찾기\n",
        "      * 그렇지 않다면 data_list의 중간값은 find_data인 경우로 return data_list의 중간 위치 "
      ],
      "metadata": {
        "id": "8WmtjmIpSBMi"
      }
    },
    {
      "cell_type": "code",
      "source": [
        "def binary_search(data, search):\n",
        "  print(data)\n",
        "  if len(data) == 1 and search == data[0]:\n",
        "    return True\n",
        "  if len(data) == 1 and search != data[0]:\n",
        "    return False\n",
        "  if len(data) == 0:\n",
        "    return False\n",
        "  medium = len(data) // 2\n",
        "  if search == data[medium]:\n",
        "    return True\n",
        "  else:\n",
        "    if search > data[medium]:\n",
        "      return binary_search(data[medium+1:], search)\n",
        "    else:\n",
        "      return binary_search(data[:medium], search)"
      ],
      "metadata": {
        "id": "Td_mN0w3Smg1"
      },
      "execution_count": null,
      "outputs": []
    },
    {
      "cell_type": "code",
      "source": [
        "import random\n",
        "data_list = random.sample(range(100), 10)\n",
        "print(data_list)"
      ],
      "metadata": {
        "colab": {
          "base_uri": "https://localhost:8080/"
        },
        "id": "rOq8wV5ATAWL",
        "outputId": "e5019a1a-6f36-4494-dba3-275aabe48276"
      },
      "execution_count": null,
      "outputs": [
        {
          "output_type": "stream",
          "name": "stdout",
          "text": [
            "[22, 50, 93, 60, 9, 88, 72, 86, 10, 37]\n"
          ]
        }
      ]
    },
    {
      "cell_type": "code",
      "source": [
        "data_list.sort()\n",
        "print(data_list)"
      ],
      "metadata": {
        "colab": {
          "base_uri": "https://localhost:8080/"
        },
        "id": "7cEpl4-mTGs8",
        "outputId": "080ee280-b502-444f-be84-9f2f09b8d481"
      },
      "execution_count": null,
      "outputs": [
        {
          "output_type": "stream",
          "name": "stdout",
          "text": [
            "[9, 10, 22, 37, 50, 60, 72, 86, 88, 93]\n"
          ]
        }
      ]
    },
    {
      "cell_type": "code",
      "source": [
        "binary_search(data_list, 60) # True"
      ],
      "metadata": {
        "colab": {
          "base_uri": "https://localhost:8080/"
        },
        "id": "qsIn8E7STKE3",
        "outputId": "a4ee94fc-0d30-4dc2-ec42-6fb081d72d8c"
      },
      "execution_count": null,
      "outputs": [
        {
          "output_type": "stream",
          "name": "stdout",
          "text": [
            "[9, 10, 22, 37, 50, 60, 72, 86, 88, 93]\n"
          ]
        },
        {
          "output_type": "execute_result",
          "data": {
            "text/plain": [
              "True"
            ]
          },
          "metadata": {},
          "execution_count": 12
        }
      ]
    },
    {
      "cell_type": "markdown",
      "source": [
        "## **4. 알고리즘 분석 ***"
      ],
      "metadata": {
        "id": "TWnctn5oT02G"
      }
    },
    {
      "cell_type": "markdown",
      "source": [
        "n개의 리스트를 매번 2로 나누어 1이 될때까지 비교 연산을 k회 진행\n",
        "    - <font size=4em>n X $\\frac { 1 }{ 2 }$ X $\\frac { 1 }{ 2 }$ X $\\frac { 1 }{ 2 }$ ... = 1</font>\n",
        "  - <font size=4em>n X $\\frac { 1 }{ 2 }^k$ = 1</font>\n",
        "  - <font size=4em>n = $2^k$ = $log_2 n$ = $log_2 2^k$</font>\n",
        "  - <font size=4em>$log_2 n$ = k</font>\n",
        "  - 빅 오 표기법으로는 k + 1 이 결국 최종 시간 복잡도임 (1이 되었을 때도, 비교연산을 한번 수행)\n",
        "    - 결국 O($log_2 n$ + 1) 이고, 2와 1, 상수는 삭제 되므로, O($log n$)"
      ],
      "metadata": {
        "id": "wDUfh2qbT5DK"
      }
    }
  ]
}