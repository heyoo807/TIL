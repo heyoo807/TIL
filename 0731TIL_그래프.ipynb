{
  "nbformat": 4,
  "nbformat_minor": 0,
  "metadata": {
    "colab": {
      "name": "0731TIL_그래프.ipynb",
      "provenance": [],
      "authorship_tag": "ABX9TyPDptQZ8lnVrYvj026ouYsR",
      "include_colab_link": true
    },
    "kernelspec": {
      "name": "python3",
      "display_name": "Python 3"
    },
    "language_info": {
      "name": "python"
    }
  },
  "cells": [
    {
      "cell_type": "markdown",
      "metadata": {
        "id": "view-in-github",
        "colab_type": "text"
      },
      "source": [
        "<a href=\"https://colab.research.google.com/github/heyoo807/TIL/blob/master/0731TIL_%EA%B7%B8%EB%9E%98%ED%94%84.ipynb\" target=\"_parent\"><img src=\"https://colab.research.google.com/assets/colab-badge.svg\" alt=\"Open In Colab\"/></a>"
      ]
    },
    {
      "cell_type": "markdown",
      "source": [
        "## **1. 그래프(Graph)**\n",
        "* 실제 세계의 현상이나 사물을 정점(Vertex) 또는 노드(Node)와 간선(Edge)으로 표현하기 위해서 사용한다 "
      ],
      "metadata": {
        "id": "A1pUq_JjdU2r"
      }
    },
    {
      "cell_type": "markdown",
      "source": [
        "## **2. 그래프 관련 용어 ***\n",
        "* 노드(node) : 위치, 정점이라고도 함\n",
        "* 간선(Edge) : 위치간의 관계를 표시한 선으로 노드를 연결한 선(link 또는 Branch라고도 함) \n",
        "* 인접 정점(Adajcent Vertex) : 간선으로 직접 연결한 정점(또는 노드) "
      ],
      "metadata": {
        "id": "qs9muAVedU79"
      }
    },
    {
      "cell_type": "markdown",
      "source": [
        "## **3. 그래프 종류**"
      ],
      "metadata": {
        "id": "jRl5q2-FeUXK"
      }
    },
    {
      "cell_type": "markdown",
      "source": [
        "### **3-1. 무방향 그래프 ***\n",
        "* 방향이 없는 그래프\n",
        "* 간선을 통해서 , 노드가 양방향으로 갈 수 있음 "
      ],
      "metadata": {
        "id": "ZGvV76KLeXFj"
      }
    },
    {
      "cell_type": "markdown",
      "source": [
        "### **3-2. 방향 그래프 ***\n",
        "* 간선에 방향이 있는 그래프\n",
        "* 보통 노드 A,B가 A->B로 가는 간선으로 연결되어 있을 경우 <A,B>로 표기 (<B,A> 또는 <A,B>와 다름) "
      ],
      "metadata": {
        "id": "70hypZQ2eho6"
      }
    },
    {
      "cell_type": "markdown",
      "source": [
        "### **3-3. 가중치 그래프**\n",
        "* 간선에 비용 또는 가중치가 할당된 그래프 "
      ],
      "metadata": {
        "id": "1KDbOp13et2b"
      }
    },
    {
      "cell_type": "markdown",
      "source": [
        "### **3-4. 연결 그래프와 비연결 그래프**\n",
        "* 연결 그래프 : 무방향 그래프에 있는 모든 노드에 대해 항상 경로가 존재하는 경우 \n",
        "* 비연결 그래프 : 무방향 그래프에서 특정 노드에 대해서 경로가 존재하지 않는 경우"
      ],
      "metadata": {
        "id": "ktPSjHU5eyvm"
      }
    },
    {
      "cell_type": "markdown",
      "source": [
        "### **3-5. 순환(Cycle)과 비순환(Acylic Graph)**\n",
        "* 순환 그래프 : 단순 경로의 시작 노드와 종료 노드가 동일한 경우 \n",
        "* 비순환 그래프 : 사이클이 없는 그래프 "
      ],
      "metadata": {
        "id": "Pvt-viXIfC-g"
      }
    },
    {
      "cell_type": "markdown",
      "source": [
        "### **3-6. 완전 그래프 ***\n",
        "* 그래프의 모든 노드가 서로 연결되어 있는 그래프 "
      ],
      "metadata": {
        "id": "y80Wq8CTfPGl"
      }
    },
    {
      "cell_type": "markdown",
      "source": [
        "## **4. 그래프와 트리의 차이**"
      ],
      "metadata": {
        "id": "WYMywh70gBW2"
      }
    },
    {
      "cell_type": "markdown",
      "source": [
        "* 그래프 : 노드와 노드를 연결하는 간선으로 표현되는 자료구조 <> 트리 : 그래프의 한종류로 방향성이 있는 비순환 그래프\n",
        "* 방향성 : 그래프는 방향 그래프, 무방향 그래프 둘다 존재하나, 트리는 방향 그래프만 존재함\n",
        "* 사이클 : 그래프는 사이클이 가능하고 , 순환 및 비순환 그래프가 모두 존재하나, 트리는 비순환 그래프로 사이클이 존재하지 않음\n",
        "* 루트 노드 : 그래프는 루트 노드가 존재하지 않고, 트리는 루트 노드가 존재한다 \n",
        "* 부모/자식 관계 : 그래프는 부모 자식 개념이 존재하지 않지만, 트리는 부모 자식 관계가 존재한다 "
      ],
      "metadata": {
        "id": "fG3nVkujgOrZ"
      }
    }
  ]
}