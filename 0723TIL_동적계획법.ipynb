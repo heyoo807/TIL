{
  "nbformat": 4,
  "nbformat_minor": 0,
  "metadata": {
    "colab": {
      "name": "0723TIL_동적계획법.ipynb",
      "provenance": [],
      "collapsed_sections": [],
      "authorship_tag": "ABX9TyNvOwPTlOv+N/mPrpj5eO20",
      "include_colab_link": true
    },
    "kernelspec": {
      "name": "python3",
      "display_name": "Python 3"
    },
    "language_info": {
      "name": "python"
    }
  },
  "cells": [
    {
      "cell_type": "markdown",
      "metadata": {
        "id": "view-in-github",
        "colab_type": "text"
      },
      "source": [
        "<a href=\"https://colab.research.google.com/github/heyoo807/TIL/blob/master/0723TIL_%EB%8F%99%EC%A0%81%EA%B3%84%ED%9A%8D%EB%B2%95.ipynb\" target=\"_parent\"><img src=\"https://colab.research.google.com/assets/colab-badge.svg\" alt=\"Open In Colab\"/></a>"
      ]
    },
    {
      "cell_type": "markdown",
      "source": [
        "## **1. 동적계획법(Dynamic Programming)**"
      ],
      "metadata": {
        "id": "S_WKpDmvNw1j"
      }
    },
    {
      "cell_type": "markdown",
      "source": [
        "* 입력 크기가 작은 부분 문제들을 해결한 후 해당 부분 문제의 값을 활용해서 보다 큰 크기의 부분 문제를 해결, 최종적으로는 전체 문제를 해결하는 알고리즘\n",
        "* 상향식 접근법(최하위 해답을 구한 후 해당 결과를 이용해서 상위 문제를 풀어가는 방식)\n",
        "* 프로그램 실행시 이전에 계산한 값을 저장하여 다시 계산하지 않도록 하여 전체 실행 속도를 빠르게 하는 기술\n",
        "(Memoization: 메모이제이션)\n",
        "* 문제를 잘게 쪼갤 때, 부분 문제는 중복되기 때문에 재활용(ex- 피보나치 수열)"
      ],
      "metadata": {
        "id": "l4TsmXGkOK1h"
      }
    },
    {
      "cell_type": "markdown",
      "source": [
        "## **2. 동적 계획법 알고리즘**\n",
        "* 피보나치 수열 n을 입력받아서 아래와 같이 계산\n",
        "(https://namu.wiki/w/%ED%94%BC%EB%B3%B4%EB%82%98%EC%B9%98%20%EC%88%98%EC%97%B4)\n",
        "```\n",
        "함수를 fibonacci라고 하면\n",
        "fibonacci(0) : 0\n",
        "fibonacci(1) : 1\n",
        "fibonacci(2) : 1\n",
        "fibonacci(3) : 2\n",
        "fibonacci(4) : 3\n",
        "fibonacci(5) : 5\n",
        "fibonacci(6) : 8\n",
        "\n",
        "```"
      ],
      "metadata": {
        "id": "wYtaB_keOoyz"
      }
    },
    {
      "cell_type": "markdown",
      "source": [
        "### **2-1. recursive call 활용**"
      ],
      "metadata": {
        "id": "avC2tzIOQLGd"
      }
    },
    {
      "cell_type": "code",
      "source": [
        "def fibonacci(num):\n",
        "  if num <= 1:\n",
        "    return num\n",
        "  return fibonacci(num-1) + fibonacci(num-2)"
      ],
      "metadata": {
        "id": "2WdphowJQOo4"
      },
      "execution_count": 1,
      "outputs": []
    },
    {
      "cell_type": "code",
      "source": [
        "fibonacci(6) #8\n",
        "# fibonacci(6) -> fibonacci(5) + fibonacci(4)\n",
        "# fibonacci(5) -> fibonacci(4) + fibonacci(3)  // fibonacci(4) -> fibonacci(3) + fibonacci(2)\n",
        "# (fibonacci(4) -> fibonacci(3) + fibonacci(2) // fibonacci(3) -> fibonacci(2) + fibonacci(1)) , (fibonacci(3) -> fibonacci(2) + fibonacci(1), fibonacci(1) + fibonacci(0)==1)\n",
        "# (fibonacci(3) -> fibonacci(2) + fibonacci(1) // fubonacci(2) = 1 ,fibonacci(1) = 1 ), (fibonacci(2) = 1, fibonacci(1) = 1)"
      ],
      "metadata": {
        "colab": {
          "base_uri": "https://localhost:8080/"
        },
        "id": "safNU9XUQXFc",
        "outputId": "68f23fc2-c951-47ec-a576-5edf9e9ae114"
      },
      "execution_count": 2,
      "outputs": [
        {
          "output_type": "execute_result",
          "data": {
            "text/plain": [
              "8"
            ]
          },
          "metadata": {},
          "execution_count": 2
        }
      ]
    },
    {
      "cell_type": "markdown",
      "source": [
        "### **2-2. 동적계획법 활용**"
      ],
      "metadata": {
        "id": "kw02HeNuSLWo"
      }
    },
    {
      "cell_type": "code",
      "source": [
        "def fibonacci(num):\n",
        "  cache = [0 for index in range(num+1)]\n",
        "  cache[0] = 0\n",
        "  cache[1] = 1\n",
        "\n",
        "  for index in range(2, num+1):\n",
        "    cache[index] = cache[index-1] + cache[index-2]\n",
        "  return cache[num]"
      ],
      "metadata": {
        "id": "vZlKbFGMSQFL"
      },
      "execution_count": 3,
      "outputs": []
    },
    {
      "cell_type": "code",
      "source": [
        "fibonacci(6) # 8\n",
        "# cache[2] = cache[1] + cache[0] = 1\n",
        "# cache[3] = cache[2] + cache[1] = 1 + 1 = 2\n",
        "# cache[4] = cache[3] + cache[2] = 2 + 1 = 3\n",
        "# cache[5] = cache[4] + cache[3] = 3 + 2 = 5\n",
        "# cache[6] = cache[5] + cache[4] = 5 + 3 = 8"
      ],
      "metadata": {
        "colab": {
          "base_uri": "https://localhost:8080/"
        },
        "id": "7htEmgVUSlRp",
        "outputId": "2bb51c8f-7e55-4971-ce2b-7bc48379efa7"
      },
      "execution_count": 4,
      "outputs": [
        {
          "output_type": "execute_result",
          "data": {
            "text/plain": [
              "8"
            ]
          },
          "metadata": {},
          "execution_count": 4
        }
      ]
    },
    {
      "cell_type": "markdown",
      "source": [
        "### **2-3. 코딩테스트**\n",
        "* https://www.acmicpc.net/problem/11726\n",
        "* https://www.acmicpc.net/problem/9461"
      ],
      "metadata": {
        "id": "tFDzWcy0TCfe"
      }
    },
    {
      "cell_type": "code",
      "source": [
        "dp = [0] * 1001\n",
        "print(dp[0])\n",
        "print(dp[1000])"
      ],
      "metadata": {
        "colab": {
          "base_uri": "https://localhost:8080/"
        },
        "id": "V19gIv1EVMCl",
        "outputId": "214c0e6f-20df-4b8a-ad78-2a3a38e3e630"
      },
      "execution_count": 7,
      "outputs": [
        {
          "output_type": "stream",
          "name": "stdout",
          "text": [
            "0\n",
            "0\n"
          ]
        }
      ]
    },
    {
      "cell_type": "code",
      "source": [
        "dp[1] = 1\n",
        "dp[2] = 2\n",
        "\n",
        "n = int(input())\n",
        "\n",
        "for index in range(3,  n+1):\n",
        "  dp[index] = dp[index-1] + dp[index-2]\n",
        "print(dp[n])"
      ],
      "metadata": {
        "colab": {
          "base_uri": "https://localhost:8080/"
        },
        "id": "T8fLG6x7VggB",
        "outputId": "fd8d6fda-ad6a-4ea5-a3c8-72659b024565"
      },
      "execution_count": 10,
      "outputs": [
        {
          "output_type": "stream",
          "name": "stdout",
          "text": [
            "5\n",
            "8\n"
          ]
        }
      ]
    },
    {
      "cell_type": "markdown",
      "source": [
        "> 일반적인 동적 계획법 문제는 가장 적은 경우의 수부터 계산해본 후, 패턴을 찾아 식을 세우는 것이 핵심"
      ],
      "metadata": {
        "id": "1WUuyVJ2V70m"
      }
    },
    {
      "cell_type": "code",
      "source": [
        "dp = [0] * 101\n",
        "dp[1] = 1\n",
        "dp[2] = 1\n",
        "dp[3] = 1\n",
        "for i in range(0, 98):\n",
        "  dp[i+3] = dp[i] + dp[i+1]"
      ],
      "metadata": {
        "id": "7x5Da9bjWFFd"
      },
      "execution_count": 11,
      "outputs": []
    },
    {
      "cell_type": "code",
      "source": [
        "print(dp[6])\n",
        "print(dp[12])"
      ],
      "metadata": {
        "colab": {
          "base_uri": "https://localhost:8080/"
        },
        "id": "oEZWZ9subIef",
        "outputId": "f48b9b55-c20f-4c82-a296-a452e6122635"
      },
      "execution_count": 13,
      "outputs": [
        {
          "output_type": "stream",
          "name": "stdout",
          "text": [
            "3\n",
            "16\n"
          ]
        }
      ]
    }
  ]
}