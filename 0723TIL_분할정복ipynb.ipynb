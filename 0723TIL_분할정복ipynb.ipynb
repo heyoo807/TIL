{
  "nbformat": 4,
  "nbformat_minor": 0,
  "metadata": {
    "colab": {
      "name": "0723TIL_분할정복ipynb",
      "provenance": [],
      "collapsed_sections": [],
      "authorship_tag": "ABX9TyMcMQBtmxzXMfwybtH63XVI",
      "include_colab_link": true
    },
    "kernelspec": {
      "name": "python3",
      "display_name": "Python 3"
    },
    "language_info": {
      "name": "python"
    }
  },
  "cells": [
    {
      "cell_type": "markdown",
      "metadata": {
        "id": "view-in-github",
        "colab_type": "text"
      },
      "source": [
        "<a href=\"https://colab.research.google.com/github/heyoo807/TIL/blob/master/0723TIL_%EB%B6%84%ED%95%A0%EC%A0%95%EB%B3%B5ipynb.ipynb\" target=\"_parent\"><img src=\"https://colab.research.google.com/assets/colab-badge.svg\" alt=\"Open In Colab\"/></a>"
      ]
    },
    {
      "cell_type": "markdown",
      "source": [
        "## **1.  분할 정복(Divide Conquer)**\n",
        "* 문제를 나눌 수 없을때까지 나누어서 각각을 풀면서 다시 병합하여 문제의 답을 얻는 알고리즘\n",
        "* 하향식 접근법으로 상위의 해답을 구하기 위해 아래로 내려가면서 하위의 해답을 구하는 방식(재귀함수로 구현)\n",
        "* 문제를 잘게 쪼갤 때 부분 문제는 서로 중복되지 않음(ex - 병합 정렬, 퀵 정렬 등)\n",
        "* Memoization 기법 사용 안함\n"
      ],
      "metadata": {
        "id": "3wQF6XBxbdaX"
      }
    },
    {
      "cell_type": "markdown",
      "source": [
        "## **2. 대표적인 정렬 : 퀵 정렬(quick sort)**\n",
        "* 정렬 알고리즘의 꽃\n",
        "* 기준점(pivot)을 정해서 기준점보다 더 작은 데이터는 왼쪽(left), 큰 데이터는 오른쪽(right)으로 모으는 함수를 작성\n",
        "* 각 왼쪽, 오른쪽은 재귀용법을 사용해서 다시 동일 함수를 호출하여 위 작업을 반복함 "
      ],
      "metadata": {
        "id": "yGa-sGYcxrOf"
      }
    },
    {
      "cell_type": "markdown",
      "source": [
        "### **2-1. 퀵 정렬 알고리즘 구현**\n",
        "* 리스트 개수가 1개면 해당 리스트를 리턴\n",
        "* 리스트 맨 앞의 데이터를 기준점(pivot)으로 정함\n",
        "* left, right 리스트 변수를 생성\n",
        "* 맨 앞의 데이터를 뺀 나머지 데이터를 기준점과 비교\n",
        "  * 기준점보다 작으면 left.append\n",
        "  * 기준점보다 크면 right.append\n",
        "* return quicksort(left) + pivot + quicksort(right)로 재귀 호출\n",
        "> 리스트로 만들어서 리턴하기 : return quick_sort(left) + [pivot] + quick_sort(right)"
      ],
      "metadata": {
        "id": "IyYnEGoMyNmn"
      }
    },
    {
      "cell_type": "code",
      "source": [
        "def quicksort(data):# 매개변수의 인수(값)가 단일 데이터일 수도 복수 데이터일 수도 있음 \n",
        "  if len(data) <= 1:\n",
        "    return data # 리스트의 개수가 1개면 해당 리스트를 리턴\n",
        "  left, right = list(), list()\n",
        "  pivot = data[0] # 리스트 맨 앞의 데이터를 기준점 pivot변수에 저장\n",
        "\n",
        "  for index in range(1, len(data)):\n",
        "    if pivot > data[index]:\n",
        "      left.append(data[index])\n",
        "    else:\n",
        "      right.append(data[index])\n",
        "  return quicksort(left) + [pivot] + quicksort(right)"
      ],
      "metadata": {
        "id": "lPyv_k69zeXk"
      },
      "execution_count": 6,
      "outputs": []
    },
    {
      "cell_type": "code",
      "source": [
        "import random \n",
        "data_list = random.sample(range(100), 10)\n",
        "print(data_list) # [94, 76, 45, 63, 62, 96, 37, 43, 93, 40]\n",
        "print(quicksort(data_list)) # [37, 40, 43, 45, 62, 63, 76, 93, 94, 96]"
      ],
      "metadata": {
        "colab": {
          "base_uri": "https://localhost:8080/"
        },
        "id": "dTbW6nVU0fMb",
        "outputId": "d987899e-6f57-4834-bfb0-648692a441c1"
      },
      "execution_count": 8,
      "outputs": [
        {
          "output_type": "stream",
          "name": "stdout",
          "text": [
            "[52, 37, 36, 15, 29, 30, 94, 35, 14, 65]\n",
            "[14, 15, 29, 30, 35, 36, 37, 52, 65, 94]\n"
          ]
        }
      ]
    },
    {
      "cell_type": "code",
      "source": [
        "# quicksort(data_list), left, right는 빈 리스트, pivot = 94\n",
        "# for문,10회\n",
        "# 1회 ~ 10회 -> pivot(94)기준 76(data_list[1]데이터부터 data_list[9]데이터까지 pivot과 대소비교하여 left, right리스트로 분할 )\n",
        "# return quicksort(left) + [94] + quicksort(right) / left->[76, 45, 63, 62, 37, 43, 40] // right->[96, 93]\n",
        "# quicksort(left), left, right는 빈 리스트, pivot = 76\n",
        "# for문 7회\n",
        "# 1회 ~ 7회 -> pivot(76)기준 76(left[1]데이터부터 left[6]데이터까지 pivot과 대소비교하여 left, right리스트로 분할 )\n",
        "# return quicksort(left) + [76] + quicksort(right) / left->[45, 63, 62] // right->[37, 43, 40]\n",
        "# quicksort(left), ....pivot = 45\n",
        "# left->[] right[63, 62]\n",
        "# quicksort(right) ..pivot = 63 , [62, 63] -> 분할 완료\n",
        "# [] + pivot + quicksort(right) -> [45, 62, 63] -> 병합\n",
        "# ....\n"
      ],
      "metadata": {
        "id": "k-nxj5-8070i"
      },
      "execution_count": null,
      "outputs": []
    },
    {
      "cell_type": "markdown",
      "source": [
        "* 재귀함수 호출과 연산자의 우선순위에 대해 생각해보기"
      ],
      "metadata": {
        "id": "pI6pRuHc30vk"
      }
    },
    {
      "cell_type": "markdown",
      "source": [
        "### **2-2. 위 퀵 정렬 코드를 파이썬 list comprehension을 사용해서 더 좋은 알고리즘으로 작성해보기 ***"
      ],
      "metadata": {
        "id": "mv61jDSN3EXI"
      }
    },
    {
      "cell_type": "code",
      "source": [
        "def quicksort(data):\n",
        "  if len(data) <= 1:\n",
        "    return data\n",
        "  pivot = data[0]\n",
        "  left = [item for item in data[1:] if pivot > item]\n",
        "  right = [item for item in data[1:] if pivot <= item]\n",
        "\n",
        "  return quicksort(left) + [pivot] + quicksort(right)"
      ],
      "metadata": {
        "id": "tK8uB45X36_Q"
      },
      "execution_count": 11,
      "outputs": []
    },
    {
      "cell_type": "code",
      "source": [
        "data_list = random.sample(range(1000), 10)\n",
        "print(data_list) # [196, 959, 26, 48, 134, 245, 482, 628, 902, 563]\n",
        "print(quicksort(data_list)) # [26, 48, 134, 196, 245, 482, 563, 628, 902, 959]"
      ],
      "metadata": {
        "colab": {
          "base_uri": "https://localhost:8080/"
        },
        "id": "SlppD_dX4hyE",
        "outputId": "94fdf00d-bf49-4394-8370-faa2e2ccbdbf"
      },
      "execution_count": 12,
      "outputs": [
        {
          "output_type": "stream",
          "name": "stdout",
          "text": [
            "[196, 959, 26, 48, 134, 245, 482, 628, 902, 563]\n",
            "[26, 48, 134, 196, 245, 482, 563, 628, 902, 959]\n"
          ]
        }
      ]
    }
  ]
}