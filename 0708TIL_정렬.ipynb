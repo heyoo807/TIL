{
  "nbformat": 4,
  "nbformat_minor": 0,
  "metadata": {
    "colab": {
      "name": "0708TIL_정렬.ipynb",
      "provenance": [],
      "collapsed_sections": [],
      "authorship_tag": "ABX9TyMagx7Xl9Xpz82E44uxPq4N",
      "include_colab_link": true
    },
    "kernelspec": {
      "name": "python3",
      "display_name": "Python 3"
    },
    "language_info": {
      "name": "python"
    }
  },
  "cells": [
    {
      "cell_type": "markdown",
      "metadata": {
        "id": "view-in-github",
        "colab_type": "text"
      },
      "source": [
        "<a href=\"https://colab.research.google.com/github/heyoo807/TIL/blob/master/0708TIL_%EC%A0%95%EB%A0%AC.ipynb\" target=\"_parent\"><img src=\"https://colab.research.google.com/assets/colab-badge.svg\" alt=\"Open In Colab\"/></a>"
      ]
    },
    {
      "cell_type": "markdown",
      "source": [
        "## **1. 정렬(sort)**\n",
        "* 어떤 데이터들이 주어졌을 떄 이를 정해진 순서대로 나열하는 것\n",
        "* 프로그램 개발시 빈번하게 정렬을 필요로 함\n",
        "* 다양한 알고리즘이 고안되었으며 알고리즘 학습의 필수사항 "
      ],
      "metadata": {
        "id": "ZmYi1A2AztwC"
      }
    },
    {
      "cell_type": "markdown",
      "source": [
        "## **2. 버블정렬(bubble sort)**\n",
        "* 두 인접한 데이터를 비교해서 앞에 있는 데이터가 뒤에 있는 데이터보다 크면(작으면)자리를 바꾸는 정렬 알고리즘\n",
        "\n",
        "<img src=\"https://upload.wikimedia.org/wikipedia/commons/c/c8/Bubble-sort-example-300px.gif\" width=500>"
      ],
      "metadata": {
        "id": "jxGiZ-Bt2Oot"
      }
    },
    {
      "cell_type": "code",
      "source": [
        "data = [3, 5, 1, 6, 7, 2, 4, 8]\n",
        "# [][0] - [][1], [][1] - [][2] , [][2]- [][3], .....[][6][][7]\n",
        "# 3 1 5 6 2 4 7 8  # data[6]까지 순회\n",
        "# 1 3 5 2 4 6 7 8 # data[5]까지 순회\n",
        "# 1 3 2 4 5 6 7 8 # data[4]까지 순회\n",
        "# 1 2 3 4 5 6 7 8 # data[3]까지 순회 \n",
        "# 1 2 3 4 5 6 7 8 # data[2]까지 순회\n",
        "# 1 2 3 4 5 6 7 8 # data[1]까지 순회\n",
        "# 1 2 3 4 5 6 7 8 # data[0]까지 순회\n",
        "\n",
        "def bubblesort(data):\n",
        "  for index1 in range(len(data) - 1): # 0 ~ 7 # 리스트의 마지막 방 인덱스 : 리스트 길이 - 1\n",
        "    for index2 in range(len(data) - index1 - 1): \n",
        "      if data[index2] > data[index2 + 1]:\n",
        "        data[index2], data[index2 + 1] = data[index2 + 1], data[index2]\n",
        "  return data\n",
        "# len(data) - index - 1 -> 작은 순으로 정렬을 하는 경우, 가장 큰 데이터가 반복문 기준 마지막 방 인덱스까지 밀릴 것이기 때문에\n",
        "# 그 다음 반복부터는 리스트길이-1번만큼 반복을 돌 필요가 없고, 이전에 반복을 돈 횟수만큼 차감한 횟수로 반복을 돌면 된다"
      ],
      "metadata": {
        "id": "NLWL09RN2ZbP"
      },
      "execution_count": null,
      "outputs": []
    },
    {
      "cell_type": "code",
      "source": [
        "bubblesort(data)"
      ],
      "metadata": {
        "colab": {
          "base_uri": "https://localhost:8080/"
        },
        "id": "v-lM4hGZA3j7",
        "outputId": "9ec79718-917c-484e-8d4b-de14c5f841e3"
      },
      "execution_count": null,
      "outputs": [
        {
          "output_type": "execute_result",
          "data": {
            "text/plain": [
              "[1, 2, 3, 4, 5, 6, 7, 8]"
            ]
          },
          "metadata": {},
          "execution_count": 7
        }
      ]
    },
    {
      "cell_type": "markdown",
      "source": [
        "## **3. 삽입 정렬(insertion sort)**\n",
        "* 두번째 인덱스부터 시작\n",
        "* 해당 인덱스(key값) 앞에 있는 데이터(A)부터 비교해서 key값이 더 작으면(크면) 데이터(A)값을 뒤 인덱스로 복사\n",
        "* key값이 더 큰 데이터를 만날 때까지 반복, 큰 데이터를 만난 위치 바로 뒤에 key값을 이동\n",
        "\n",
        "<img src=\"https://upload.wikimedia.org/wikipedia/commons/9/9c/Insertion-sort-example.gif\">"
      ],
      "metadata": {
        "id": "suHa_K5mA9g7"
      }
    },
    {
      "cell_type": "code",
      "source": [
        "#data = [3, 5, 1, 6, 7, 2, 4, 8]\n",
        "# 3 5 1 6 7 2 4 8 # 5 \n",
        "# 1 3 5 6 7 2 4 8 # 1\n",
        "# 1 3 5 6 7 2 4 8 # 6 \n",
        "# 1 3 5 6 7 2 4 8 # 7\n",
        "# 1 2 3 5 6 7 4 8 # 2\n",
        "# 1 2 3 4 5 6 7 8 # 4\n",
        "# 1 2 3 4 5 6 7 8 # 8\n",
        "def insertion_sort(data):\n",
        "  for index1 in range(len(data) - 1):# 7 \n",
        "    for index2 in range(index1 + 1, 0, -1):\n",
        "      if data[index2] < data[index2-1]:\n",
        "        data[index2], data[index2 - 1] = data[index2 - 1], data[index2]\n",
        "      else:\n",
        "        break\n",
        "  return data"
      ],
      "metadata": {
        "id": "h-jtC3SGBO6h"
      },
      "execution_count": null,
      "outputs": []
    },
    {
      "cell_type": "code",
      "source": [
        "data = [3, 5, 1, 6, 7, 2, 4, 8]\n",
        "insertion_sort(data)"
      ],
      "metadata": {
        "colab": {
          "base_uri": "https://localhost:8080/"
        },
        "id": "mn15ulxcFzjm",
        "outputId": "3cdd9974-e7bf-45f0-a24e-b60d9614fee1"
      },
      "execution_count": null,
      "outputs": [
        {
          "output_type": "execute_result",
          "data": {
            "text/plain": [
              "[1, 2, 3, 4, 5, 6, 7, 8]"
            ]
          },
          "metadata": {},
          "execution_count": 9
        }
      ]
    },
    {
      "cell_type": "markdown",
      "source": [
        "## **4. 선택 정렬(selection sort)**\n",
        "* 주어진 데이터 중 최소값을 찾음\n",
        "* 해당 최소값을 데이터 맨 앞에 위치한 값과 교체함\n",
        "* 맨 앞의 위치를 뺀 나머지 데이터를 동일한 방법으로 반복 \n",
        "\n",
        "<img src=\"https://upload.wikimedia.org/wikipedia/commons/9/94/Selection-Sort-Animation.gif\" width=100>"
      ],
      "metadata": {
        "id": "laIXHtK8GQ4N"
      }
    },
    {
      "cell_type": "code",
      "source": [
        "def selection_sort(data):\n",
        "  for stand in range(len(data)-1):\n",
        "    min = stand\n",
        "    for index in range(stand+1, len(data)):\n",
        "      if data[min] > data[index]:\n",
        "        min = index\n",
        "    data[min], data[stand] = data[stand], data[min]\n",
        "  return data"
      ],
      "metadata": {
        "id": "uwcOX07WGlmJ"
      },
      "execution_count": null,
      "outputs": []
    },
    {
      "cell_type": "code",
      "source": [
        "data = [80, 90, 100, 70, 50]\n",
        "selection_sort(data)"
      ],
      "metadata": {
        "colab": {
          "base_uri": "https://localhost:8080/"
        },
        "id": "YQBgck-kIM8i",
        "outputId": "b28f63dd-458c-4fe9-fe23-1afb5e5a7606"
      },
      "execution_count": null,
      "outputs": [
        {
          "output_type": "execute_result",
          "data": {
            "text/plain": [
              "[50, 70, 80, 90, 100]"
            ]
          },
          "metadata": {},
          "execution_count": 12
        }
      ]
    }
  ]
}