{
  "nbformat": 4,
  "nbformat_minor": 0,
  "metadata": {
    "colab": {
      "name": "0729TIL_병합정렬.ipynb",
      "provenance": [],
      "collapsed_sections": [],
      "authorship_tag": "ABX9TyPb+cIxxMY8cOfDsLv9oBwS",
      "include_colab_link": true
    },
    "kernelspec": {
      "name": "python3",
      "display_name": "Python 3"
    },
    "language_info": {
      "name": "python"
    }
  },
  "cells": [
    {
      "cell_type": "markdown",
      "metadata": {
        "id": "view-in-github",
        "colab_type": "text"
      },
      "source": [
        "<a href=\"https://colab.research.google.com/github/heyoo807/TIL/blob/master/0729TIL_%EB%B3%91%ED%95%A9%EC%A0%95%EB%A0%AC.ipynb\" target=\"_parent\"><img src=\"https://colab.research.google.com/assets/colab-badge.svg\" alt=\"Open In Colab\"/></a>"
      ]
    },
    {
      "cell_type": "markdown",
      "source": [
        "## **1. 병합정렬(merge sort)**\n",
        "* 재귀 용법을 활용한 정렬 알고리즘\n",
        "* 리스트를 절반으로 잘라 비슷한 크기의 두 부분 리스트로 나눔\n",
        "* 각 부분 리스트를 재귀적으로 합병 정렬을 이용해 정렬\n",
        "* 두 부분 리스트를 다시 하나의 정렬된 리스트로 합병\n",
        "* <img src=\"https://upload.wikimedia.org/wikipedia/commons/c/cc/Merge-sort-example-300px.gif\" width=500/>"
      ],
      "metadata": {
        "id": "ZBMZeW1cI3xy"
      }
    },
    {
      "cell_type": "markdown",
      "source": [
        "## **2. 알고리즘 이해**"
      ],
      "metadata": {
        "id": "Fx96E3ebJjUl"
      }
    },
    {
      "cell_type": "code",
      "source": [
        "data_list = [1, 9, 3, 2]"
      ],
      "metadata": {
        "id": "Hq6Qc9TtJm8y"
      },
      "execution_count": null,
      "outputs": []
    },
    {
      "cell_type": "markdown",
      "source": [
        "1. [1, 9], [3, 2]로 나눔\n",
        "2. 앞 부분은 [1], [9]로 나누고 뒷 부분은 [3], [2]로 나눔\n",
        "3. 정렬해서 [1, 9], [2, 3]으로 합침 \n",
        "  * 1 < 2이므로 리스트에 1을 저장 [1]\n",
        "  * 9 > 2이므로 리스트에 2를 저장 \n",
        "  * 9 > 3이므로 리스트에 3을 저장\n",
        "  * 9밖에 없으니 리스트에 9를 추가 [1, 2, 3, 9]"
      ],
      "metadata": {
        "id": "5taI4791JpAc"
      }
    },
    {
      "cell_type": "markdown",
      "source": [
        "## **3. 알고리즘 구현 ***"
      ],
      "metadata": {
        "id": "THlNTSk-J9it"
      }
    },
    {
      "cell_type": "markdown",
      "source": [
        "### **3-1. mergesplit 함수 ***\n",
        "* 만약 리스트 개수가 1개이면 해당 값을 리턴\n",
        "* 그렇지 않으면, 리스트를 앞 뒤 두개로 나눔\n",
        "* left = mergesplit(앞)\n",
        "* right = mergesplit(뒤)\n",
        "* merge(left, right)"
      ],
      "metadata": {
        "id": "LShOHcV1KAzQ"
      }
    },
    {
      "cell_type": "markdown",
      "source": [
        "### **3-2. merge함수**\n",
        "* 리스트 변수 하나를 만듬(sorted)\n",
        "* left_index, right_index = 0\n",
        "* while left_index < len(left) or right_index < len(right):\n",
        "* 만약 left_index나 right_index가 이미 left 또는 right 리스트를 모두 순회했다면 그 반대쪽 데이터를 그대로 넣고 해당 인덱스 1을 증가 "
      ],
      "metadata": {
        "id": "14VxiPjVKPoT"
      }
    },
    {
      "cell_type": "markdown",
      "source": [
        "### **문제**\n",
        "어떤 데이터리스트가 있을 때 리스트를 앞 뒤로 자르는 코드를 작성해보자. \n",
        "\n"
      ],
      "metadata": {
        "id": "a3uoRi-IKs2Q"
      }
    },
    {
      "cell_type": "code",
      "source": [
        "def split_func(data):\n",
        "  medium = int(len(data) / 2)\n",
        "  left = data[:medium]\n",
        "  right = data[medium:]\n",
        "  print(left, right)"
      ],
      "metadata": {
        "id": "C7aBu5jzL1yh"
      },
      "execution_count": 4,
      "outputs": []
    },
    {
      "cell_type": "code",
      "source": [
        "split_func([1, 2, 3, 4, 5])\n",
        "split_func([1, 2, 3, 4])"
      ],
      "metadata": {
        "colab": {
          "base_uri": "https://localhost:8080/"
        },
        "id": "splnJVPdL_bc",
        "outputId": "a1289894-723b-49f7-e09e-bbd2fb911a2b"
      },
      "execution_count": 5,
      "outputs": [
        {
          "output_type": "stream",
          "name": "stdout",
          "text": [
            "[1, 2] [3, 4, 5]\n",
            "[1, 2] [3, 4]\n"
          ]
        }
      ]
    },
    {
      "cell_type": "code",
      "source": [
        "def mergesplit(data):\n",
        "  if len(data) <= 1:\n",
        "    return data\n",
        "  medium = int(len(data) / 2)\n",
        "  left = data[:medium]\n",
        "  right = data[medium:]\n",
        "  return merge(left, right)"
      ],
      "metadata": {
        "id": "ahorXxrSMFBl"
      },
      "execution_count": 6,
      "outputs": []
    },
    {
      "cell_type": "code",
      "source": [
        "# 병합 정렬 최종 코드\n",
        "def mergesplit(data):\n",
        "  if len(data) <= 1:\n",
        "    return data\n",
        "  medium = int(len(data) / 2)\n",
        "  left = mergesplit(data[:medium])\n",
        "  right = mergesplit(data[medium: ])\n",
        "  return merge(left, right)\n",
        "def merge(left, right):\n",
        "  merged = list()\n",
        "  left_point, right_point = 0, 0\n",
        "\n",
        "  # left, right 둘 다 있을 때\n",
        "  while len(left) > left_point and len(right) > right_point:\n",
        "    if left[left_point] > right[right_point]:\n",
        "      merged.append(right[right_point])\n",
        "      right_point += 1\n",
        "    else:\n",
        "      merged.append(left[left_point])\n",
        "      left_point += 1\n",
        "  # left 데이터가 없을 때 (right만 있을 때)\n",
        "  while len(left) > left_point:\n",
        "    merged.append(left[left_point])\n",
        "    left_point += 1\n",
        "  # right 데이터가 없을 때 (left만 있을 때)\n",
        "  while len(right) > right_point:\n",
        "    merged.append(right[right_point])\n",
        "    right_point += 1\n",
        "  \n",
        "  return merged "
      ],
      "metadata": {
        "id": "BKMVE6H2McwG"
      },
      "execution_count": 7,
      "outputs": []
    },
    {
      "cell_type": "code",
      "source": [
        "import random\n",
        "\n",
        "data_list = random.sample(range(100), 10)\n",
        "print(data_list)\n",
        "mergesplit(data_list)"
      ],
      "metadata": {
        "colab": {
          "base_uri": "https://localhost:8080/"
        },
        "id": "LbIwjxUaOdJ2",
        "outputId": "25664369-753f-45d1-b2e9-340428d33222"
      },
      "execution_count": 9,
      "outputs": [
        {
          "output_type": "stream",
          "name": "stdout",
          "text": [
            "[84, 15, 36, 70, 26, 50, 40, 44, 0, 54]\n"
          ]
        },
        {
          "output_type": "execute_result",
          "data": {
            "text/plain": [
              "[0, 15, 26, 36, 40, 44, 50, 54, 70, 84]"
            ]
          },
          "metadata": {},
          "execution_count": 9
        }
      ]
    }
  ]
}