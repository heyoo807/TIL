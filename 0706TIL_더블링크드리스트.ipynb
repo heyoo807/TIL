{
  "nbformat": 4,
  "nbformat_minor": 0,
  "metadata": {
    "colab": {
      "name": "0706TIL_더블링크드리스트.ipynb",
      "provenance": [],
      "collapsed_sections": [],
      "authorship_tag": "ABX9TyPnLJb5BfeSJdDy+5SxdQh0",
      "include_colab_link": true
    },
    "kernelspec": {
      "name": "python3",
      "display_name": "Python 3"
    },
    "language_info": {
      "name": "python"
    }
  },
  "cells": [
    {
      "cell_type": "markdown",
      "metadata": {
        "id": "view-in-github",
        "colab_type": "text"
      },
      "source": [
        "<a href=\"https://colab.research.google.com/github/heyoo807/TIL/blob/master/0706TIL_%EB%8D%94%EB%B8%94%EB%A7%81%ED%81%AC%EB%93%9C%EB%A6%AC%EC%8A%A4%ED%8A%B8.ipynb\" target=\"_parent\"><img src=\"https://colab.research.google.com/assets/colab-badge.svg\" alt=\"Open In Colab\"/></a>"
      ]
    },
    {
      "cell_type": "markdown",
      "source": [
        "## **1. 더블링크드리스트(Doubly Linked List)**\n",
        "*  양방향으로 연결되어 있어서 노드 탐색이 양쪽으로 모두 가능 "
      ],
      "metadata": {
        "id": "nLln5b6GVweS"
      }
    },
    {
      "cell_type": "code",
      "source": [
        "class Node:\n",
        "  def __init__(self, data, prev = None, next = None):\n",
        "    self.prev = prev \n",
        "    self.data = data\n",
        "    self.next = next"
      ],
      "metadata": {
        "id": "vwcilPztWUjn"
      },
      "execution_count": null,
      "outputs": []
    },
    {
      "cell_type": "code",
      "source": [
        "class NodeMgmt:\n",
        "  def __init__(self, data):\n",
        "    self.head = Node(data)\n",
        "    self.tail = self.head\n",
        "  def insert(self, data):\n",
        "    if self.head == None:\n",
        "      self.head = Node(data)\n",
        "      self.tail = self.head\n",
        "    else:\n",
        "      node = self.head\n",
        "      while node.next:\n",
        "        node = node.next\n",
        "      # node.next가 없을 경우 노드 추가\n",
        "      # 고려해야 할 것 , 현재 노드의 next에는 추가할 노드 객체가 저장\n",
        "      # 추가할 노드의 prev에는 현재 노드가 저장\n",
        "      # 해당 더블링크드리스트객체의 tail에는 추가할 노드객체가 저장  \n",
        "      new = Node(data)\n",
        "      node.next = new\n",
        "      new.prev = node\n",
        "      self.tail = new\n",
        "  def node_print(self):\n",
        "    node = self.head\n",
        "    while node:\n",
        "      print(node.data)\n",
        "      node = node.next\n",
        "  # 앞에서부터 검색하여 전달한 data값이 존재하면 해당 값을 출력하고 존재하지 않는다면 False를 출력 \n",
        "  def search_from_head(self, data):\n",
        "    if self.head == None:\n",
        "      return False\n",
        "    node = self.head\n",
        "    while node:\n",
        "      if node.data == data:\n",
        "        return node\n",
        "      else:\n",
        "        node = node.next\n",
        "    return False\n",
        "  def search_from_tail(self, data):\n",
        "    if self.tail == None:\n",
        "      return False\n",
        "    node = self.tail\n",
        "    while node:\n",
        "      if node.data == data:\n",
        "        return node\n",
        "      else:\n",
        "        node = node.prev\n",
        "    return False\n",
        "  def insert_before(self, data, after_data): #insert_before(2.5, 3)\n",
        "    if self.head == None:\n",
        "      self.head = Node(data)\n",
        "      return True\n",
        "    else:\n",
        "      node = self.tail # 꼬리부터 순회\n",
        "      while node.data != after_data:\n",
        "        node = node.prev\n",
        "        if node == None:\n",
        "          return False\n",
        "      new = Node(data)\n",
        "      temp = node.prev\n",
        "      temp.next = new\n",
        "      new.prev = temp\n",
        "      new.next = node\n",
        "      node.prev = new\n",
        "      return True\n",
        "      # node.data == after_data인 경우 실행됨 \n",
        "      # ex 2  2.5  3 \n",
        "      # 고려해야 할 것(5)\n",
        "      # 0.new 노드 생성 new = Node(data)\n",
        "      # 1.현재 node객체의 prev에는 new객체가 들어가고 temp = node.prev, 5. node.prev = new\n",
        "      # 2.현재 node객체의 prev의 next에는 new노드객체가 담겨야 함 temp.next = new\n",
        "      # 3.현재 node객체의 prev안 객체(temp)는 new노드객체의 prev에 담겨야함 new.prev = temp\n",
        "      # 4.new노드 객체의 next에는 현재 node객체가 담겨야 함 new.next = node\n",
        "\n"
      ],
      "metadata": {
        "id": "X0NDxfh0XDna"
      },
      "execution_count": null,
      "outputs": []
    },
    {
      "cell_type": "code",
      "source": [
        "double_linked_list = NodeMgmt(0)\n",
        "for data in range(1, 11):\n",
        "  double_linked_list.insert(data)"
      ],
      "metadata": {
        "id": "DDepb6IxeJTZ"
      },
      "execution_count": null,
      "outputs": []
    },
    {
      "cell_type": "code",
      "source": [
        "double_linked_list.node_print()"
      ],
      "metadata": {
        "colab": {
          "base_uri": "https://localhost:8080/"
        },
        "id": "dgH_Idt_eSKu",
        "outputId": "0acdfa99-75a9-4846-f19a-9e99ca78cf31"
      },
      "execution_count": null,
      "outputs": [
        {
          "output_type": "stream",
          "name": "stdout",
          "text": [
            "0\n",
            "1\n",
            "2\n",
            "3\n",
            "4\n",
            "5\n",
            "6\n",
            "7\n",
            "8\n",
            "9\n",
            "10\n"
          ]
        }
      ]
    },
    {
      "cell_type": "code",
      "source": [
        "# search_from_head(data)메소드 test\n",
        "search_result = double_linked_list.search_from_head(7)\n",
        "print(search_result) # search_from_head()로 노드를 찾았을 때 return node이므로 노드객체 출력\n",
        "# <__main__.Node object at 0x7fd3f7bc8790>\n",
        "print(search_result.data) # 7\n",
        "search_result = double_linked_list.search_from_head(17)\n",
        "print(search_result) # False \n",
        "# print(search_result.data) #AttributeError: 'bool' object has no attribute 'data\n"
      ],
      "metadata": {
        "colab": {
          "base_uri": "https://localhost:8080/"
        },
        "id": "FFweKY1EeWdN",
        "outputId": "af910c6c-1256-4ae9-abfb-71f38b28573a"
      },
      "execution_count": null,
      "outputs": [
        {
          "output_type": "stream",
          "name": "stdout",
          "text": [
            "<__main__.Node object at 0x7fd3f7bc8790>\n",
            "7\n",
            "False\n"
          ]
        }
      ]
    },
    {
      "cell_type": "code",
      "source": [
        "# search_from_tail() 메소드 test \n",
        "search_result = double_linked_list.search_from_tail(3)\n",
        "print(search_result) # <__main__.Node object at 0x7fd3f7bc8550>\n",
        "print(search_result.data) # 3 "
      ],
      "metadata": {
        "colab": {
          "base_uri": "https://localhost:8080/"
        },
        "id": "Oi7MsYLNernJ",
        "outputId": "5759a621-9dc4-4d3d-d026-4a7d05e77d80"
      },
      "execution_count": null,
      "outputs": [
        {
          "output_type": "stream",
          "name": "stdout",
          "text": [
            "<__main__.Node object at 0x7fd3f7bc8550>\n",
            "3\n"
          ]
        }
      ]
    },
    {
      "cell_type": "code",
      "source": [
        "# insert_before() 메소드 test\n",
        "double_linked_list.insert_before(2.5, 3)\n",
        "double_linked_list.node_print()[]"
      ],
      "metadata": {
        "colab": {
          "base_uri": "https://localhost:8080/"
        },
        "id": "y8EeRGEwfJf_",
        "outputId": "e275d44c-a0dc-4b73-d01f-3480118cdcc2"
      },
      "execution_count": null,
      "outputs": [
        {
          "output_type": "stream",
          "name": "stdout",
          "text": [
            "0\n",
            "1\n",
            "2\n",
            "2.5\n",
            "3\n",
            "4\n",
            "5\n",
            "6\n",
            "7\n",
            "8\n",
            "9\n",
            "10\n"
          ]
        }
      ]
    }
  ]
}